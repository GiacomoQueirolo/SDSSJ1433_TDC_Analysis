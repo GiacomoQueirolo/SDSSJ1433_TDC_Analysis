{
 "cells": [
  {
   "cell_type": "code",
   "execution_count": 1,
   "metadata": {},
   "outputs": [],
   "source": [
    "\"\"\"\n",
    "Inverse of Dft_combo :\n",
    "\n",
    "The idea is to convert the 3D Dt distribution\n",
    "using some given test values of H0 into Df distr.\n",
    "and see how well it agrees with the 3D df distribution\n",
    "\n",
    "\"\"\";\n"
   ]
  },
  {
   "cell_type": "code",
   "execution_count": 2,
   "metadata": {},
   "outputs": [],
   "source": [
    "import os,sys\n",
    "import matplotlib\n",
    "import numpy as np\n",
    "import corner,pickle\n",
    "import json,copy,time\n",
    "import matplotlib.pyplot as plt\n",
    "from scipy.stats import multivariate_normal\n",
    "\n",
    "from tools import *\n",
    "from Dt_from_Df import *\n",
    "from plot_H0 import plot_H0"
   ]
  },
  {
   "cell_type": "code",
   "execution_count": 3,
   "metadata": {},
   "outputs": [],
   "source": [
    "font = {'family' : 'DejaVu Sans',\n",
    "        'weight' : 'normal',\n",
    "        'size'   : 16}\n",
    "\n",
    "matplotlib.rc('font', **font)\n",
    "matplotlib.rc('figure',**{'figsize':(12,9)})\n",
    "plt.rc('xtick', labelsize=16)\n",
    "plt.rc('ytick', labelsize=16)"
   ]
  },
  {
   "cell_type": "code",
   "execution_count": 4,
   "metadata": {},
   "outputs": [],
   "source": [
    "CP = 1\n",
    "\n",
    "if CP:\n",
    "    CP = \"_CP\"\n",
    "else:\n",
    "    CP = \"\"\n",
    "res_dir = \"./results/\"\n",
    "mkdir(res_dir)\n",
    "# Df\n",
    "df_resdir  = res_dir+\"/Df_post\"+CP+\"/\""
   ]
  },
  {
   "cell_type": "code",
   "execution_count": 5,
   "metadata": {},
   "outputs": [
    {
     "name": "stdout",
     "output_type": "stream",
     "text": [
      "All data collected\n"
     ]
    }
   ],
   "source": [
    "with open(df_resdir+\"/Combined_PDF.pkl\",\"rb\") as f:\n",
    "    PDF_Df = np.array(pickle.load(f))\n",
    "with open(df_resdir+\"/Combined_PDF_bins.pkl\",\"rb\") as f:\n",
    "    PDF_Df_bins = np.array(pickle.load(f))\n",
    "    \n",
    "#Dt\n",
    "#pycs_maindir = \"/home/jackquei/Desktop/UNI_Muenchen/Thesis/steps/step4_lightcurves/Remastered/my_pycs_scripts/\"\n",
    "#sys.path.append(pycs_maindir)\n",
    "#dt_resdir = pycs_maindir+\"stnd_results_forcen/Combined/\"\n",
    "dt_resdir = res_dir+\"/Dt_post/\"\n",
    "with open(dt_resdir+\"/marginalisation_spline_sigma_0.50_combined.pkl\",\"rb\") as f:\n",
    "    Dt_res = pickle.load(f)\n",
    "\n",
    "#MOD_MULTIVAR\n",
    "# we want to consider the error correlation, see notes 12th Nov.\n",
    "cov_sys = (np.array(Dt_res.error.sys)**2)*np.identity(len(Dt_res.error.sys))\n",
    "cov_rnd = np.cov(Dt_res.err_distr)\n",
    "cov_dt  = cov_sys + cov_rnd\n",
    "kwargs_dt = {\"mean\":Dt_res.results,\"cov\":cov_dt}\n",
    "print(\"All data collected\")"
   ]
  },
  {
   "cell_type": "markdown",
   "metadata": {},
   "source": [
    "$$ \\large P (H_0)\\ =\\ \\int d\\Delta \\phi P^{\\text{lens model}}(\\Delta \\phi)* \\frac{P^{\\text{lightcurves}}(\\Delta \\phi (\\Delta t)|H_0)}{\\int dH_0 ' P^{\\text{lightcurves}}(\\Delta \\phi (\\Delta t)|H_0') }*Prior(H_0) $$"
   ]
  },
  {
   "cell_type": "markdown",
   "metadata": {},
   "source": [
    "### What we want to obtain is:\n",
    "\n",
    "$$ \\large P (H_0)\\ =\\ \\int\\int\\int d\\Delta \\phi_{AB}d\\Delta \\phi_{AC}d\\Delta \\phi_{BC} P_{\\Delta \\phi\\  meas.}(\\Delta \\phi_{AB},\\Delta \\phi_{AC},\\Delta \\phi_{BC})* \\frac{P_{\\Delta t\\ transf.}(\\Delta \\phi_{AB},\\Delta \\phi_{AC},\\Delta \\phi_{BC}|H_0)*Prior(H_0)}{\\int dH_0 ' P_{\\Delta t \\  transf.}(\\Delta \\phi_{AB},\\Delta \\phi_{AC},\\Delta \\phi_{BC} | H_0') } $$"
   ]
  },
  {
   "cell_type": "code",
   "execution_count": 6,
   "metadata": {},
   "outputs": [],
   "source": [
    "# Note: We will have to consider the density, but before we did the density in the fermat potential space,\n",
    "# now we first convert to time delay space and then compute the density in the time delay space"
   ]
  },
  {
   "cell_type": "code",
   "execution_count": 7,
   "metadata": {},
   "outputs": [],
   "source": [
    "def get_norm_density(distr_3D,d_bins=100): #d_bins would be interesting to optimise\n",
    "    distr_3D_ = copy.deepcopy(distr_3D)\n",
    "    try:\n",
    "        np.shape(distr_3D_)[1:]==(3,) # shape must be (mc_i, 2)\n",
    "    except:\n",
    "        raise RuntimeError(\"Wrong shape of distr_3D: \",np.shape(distr_3D_),\" must be (mc_i,3)\")\n",
    "\n",
    "    density,d_bins = np.histogramdd(distr_3D_,bins=d_bins,density=True) #density True return density function, not norm\n",
    "    density_nrm = density/np.sum(density)\n",
    "    return density_nrm,d_bins\n",
    "\n",
    "def get_bin_center(bins):\n",
    "    bins_centers = []\n",
    "    for i in range(len(bins)):\n",
    "        bins_centers_i = []\n",
    "        for j in range(len(bins[i])-1):\n",
    "            bins_centers_i.append((bins[i][j]+bins[i][j+1])/2.)\n",
    "        bins_centers.append(bins_centers_i)\n",
    "    bins_centers =np.array(bins_centers)\n",
    "    return bins_centers\n",
    "\n",
    "def get_analytic_density(mean,cov,bins):\n",
    "    center_bins = get_bin_center(bins) \n",
    "    grid_of_points = np.transpose(np.meshgrid(*center_bins))\n",
    "    dens  = multivariate_normal.pdf(grid_of_points,mean,cov)\n",
    "    return dens\n"
   ]
  },
  {
   "cell_type": "code",
   "execution_count": 8,
   "metadata": {},
   "outputs": [],
   "source": [
    "def get_PH0(n_bins=100,H0=np.arange(50,100,.1),\n",
    "            Dt_kw = kwargs_dt,\n",
    "            #Df    = mcmc_df,\n",
    "            Dens_f = PDF_Df,\n",
    "            nd_bins = PDF_Df_bins,\n",
    "            other_ret=False):\n",
    "    n_bins_ = copy.deepcopy(n_bins)\n",
    "    # this is already done previously to combine the posteriors\n",
    "    #Dens_f,nd_bins = get_norm_density(copy.deepcopy(Df),d_bins=n_bins_)\n",
    "    \n",
    "    PH0 = []\n",
    "    for h0 in H0:\n",
    "        kwargs_df = {\"mean\":Df_XY(copy.deepcopy(kwargs_dt[\"mean\"]),h0),\n",
    "             \"cov\":cov_Df(copy.deepcopy(kwargs_dt[\"cov\"]),h0)}\n",
    "        Dens_f_trsf = get_analytic_density(bins=copy.deepcopy(nd_bins),**kwargs_df)\n",
    "        Dens_tot = copy.deepcopy(Dens_f)*Dens_f_trsf\n",
    "        # the integration in this case is nothing else then the sum over every bin, ie:\n",
    "        P_h0 = np.sum(Dens_tot)\n",
    "        if np.isnan(P_h0):\n",
    "            P_h0 = 0.\n",
    "        PH0.append(P_h0)\n",
    "    if np.sum(PH0)!=0:\n",
    "        PH0 = PH0/np.sum(PH0)\n",
    "    else:\n",
    "        print(\"WARNING: sum of PH0 == 0\")\n",
    "    return np.array(PH0),H0\n"
   ]
  },
  {
   "cell_type": "code",
   "execution_count": 9,
   "metadata": {},
   "outputs": [],
   "source": [
    "\n",
    "def get_analytic_density(mean,cov,bins,norm=1):\n",
    "    center_bins = get_bin_center(bins) \n",
    "    grid_of_points = np.transpose(np.meshgrid(*center_bins))\n",
    "    dens  = multivariate_normal.pdf(grid_of_points,mean,cov)*norm\n",
    "    return dens\n",
    "\n",
    "\n",
    "def get_normalisation(in_bins,Dt_kw,H0_range):\n",
    "    bins = np.array(copy.deepcopy(in_bins))\n",
    "    dH0 = H0_range[1]-H0_range[0] #is this necessary?\n",
    "    kwargs_df = {\"mean\":Df_XY(copy.deepcopy(Dt_kw[\"mean\"]),H0_range[0]),\n",
    "     \"cov\":cov_Df(copy.deepcopy(Dt_kw[\"cov\"]),H0_range[0])}\n",
    "    norm = get_analytic_density(bins=bins,**kwargs_df)\n",
    "    for i in range(1,len(H0_range)):\n",
    "        kwargs_df = {\"mean\":Df_XY(copy.deepcopy(Dt_kw[\"mean\"]),H0_range[i]),\n",
    "             \"cov\":cov_Df(copy.deepcopy(Dt_kw[\"cov\"]),H0_range[i])}\n",
    "        norm+= get_analytic_density(bins=bins,**kwargs_df)*dH0\n",
    "    print(\"normalisation done\")\n",
    "    return norm\n",
    "def get_bin_vol(in_bins):\n",
    "    bins =copy.deepcopy(in_bins)\n",
    "    dim = np.shape(bins)[0]\n",
    "    print(dim)\n",
    "    bin_vol = 1\n",
    "    for d in range(dim):\n",
    "        bin_lenght=bins[d][1]-bins[d][0] \n",
    "        for n in range(5):\n",
    "            rnd_index = np.random.randint(2,len(bins[d]))\n",
    "            test_lenght =bins[d][rnd_index]-bins[d][rnd_index-1]\n",
    "            if np.abs(bin_lenght-test_lenght)>1e-7:\n",
    "                raise RuntimeError(\"Not all bins have the same size\")\n",
    "        bin_vol *= bin_lenght\n",
    "    # we get a \"volume\" (vol in 3D, area in 2D, lenght in 1D) \n",
    "    # assuming that all bins are the same\n",
    "    return bin_vol\n",
    "\n",
    "def get_PH0_plot(n_bins=100,H0=np.arange(50,100,.1),\n",
    "            Dt_kw = kwargs_dt,\n",
    "            #Df    = mcmc_df,\n",
    "            Dens_f = PDF_Df,\n",
    "            nd_bins = PDF_Df_bins,\n",
    "            other_ret=False,\n",
    "            savefigs=False):\n",
    "    n_bins_ = copy.deepcopy(n_bins)\n",
    "    #Dens_f,nd_bins = get_norm_density(copy.deepcopy(Df),d_bins=n_bins_)\n",
    "    \n",
    "    PH0 = []\n",
    "    Dens_f_trsf_norm = get_normalisation(in_bins=copy.deepcopy(nd_bins),\\\n",
    "                                             Dt_kw = copy.deepcopy(Dt_kw),\\\n",
    "                                             H0_range=H0)\n",
    "    for h0 in H0:\n",
    "        kwargs_df = {\"mean\":Df_XY(copy.deepcopy(Dt_kw[\"mean\"]),h0),\n",
    "             \"cov\":cov_Df(copy.deepcopy(Dt_kw[\"cov\"]),h0)}\n",
    "        \n",
    "        \n",
    "        Dens_f_trsf = get_analytic_density(bins=copy.deepcopy(nd_bins),\\\n",
    "                                           norm=Dens_f_trsf_norm,\\\n",
    "                                           **kwargs_df)\n",
    "        \n",
    "        Dens_tot = copy.deepcopy(Dens_f)*Dens_f_trsf\n",
    "        # the integration in this case is nothing else then the sum over every bin, ie:\n",
    "        Darea_bins = get_bin_vol(copy.deepcopy(nd_bins))\n",
    "        P_h0 = np.sum(Dens_tot)*Darea_bins\n",
    "        if np.isnan(P_h0):\n",
    "            P_h0 = 0.\n",
    "        PH0.append(P_h0)\n",
    "        \n",
    "    if np.sum(PH0)!=0:\n",
    "        print(\"Evidence: \",np.sum(PH0))\n",
    "        PH0 = PH0/np.sum(PH0)\n",
    "    else:\n",
    "        print(\"WARNING: sum of PH0 == 0\")\n",
    "    return np.array(PH0),H0"
   ]
  },
  {
   "cell_type": "code",
   "execution_count": 10,
   "metadata": {},
   "outputs": [
    {
     "name": "stdout",
     "output_type": "stream",
     "text": [
      "Time passed:  2.046663999557495\n"
     ]
    }
   ],
   "source": [
    "begin = time.time()\n",
    "PH0,H0 = get_PH0()\n",
    "print(\"Time passed: \",time.time()-begin)"
   ]
  },
  {
   "cell_type": "code",
   "execution_count": 11,
   "metadata": {},
   "outputs": [],
   "source": [
    "os.system(\"say finished\");"
   ]
  },
  {
   "cell_type": "code",
   "execution_count": 12,
   "metadata": {},
   "outputs": [],
   "source": [
    "#plt.scatter(H0,PH0,marker=\".\")\n",
    "#plt.ylim(0,max(PH0)*1.1)\n",
    "\n",
    "with open(res_dir+\"/ph0_results\"+CP+\".data\",\"wb\") as f:\n",
    "    pickle.dump([PH0,H0],f)"
   ]
  },
  {
   "cell_type": "code",
   "execution_count": 13,
   "metadata": {},
   "outputs": [
    {
     "name": "stdout",
     "output_type": "stream",
     "text": [
      "analytical:  80.4 + 7.2 - 6.3\n"
     ]
    }
   ],
   "source": [
    "### we want quantiles\n",
    "qnt    = []\n",
    "integr = 0\n",
    "for i in range(len(PH0)):\n",
    "    integr+=PH0[i]\n",
    "    for qi in [0.16,.5,0.84]:\n",
    "        if integr-PH0[i]<qi and integr>=qi:\n",
    "            qnt.append(H0[i])\n",
    "\n",
    "h0_res  = qnt[1]\n",
    "err_min = qnt[1]-qnt[0]\n",
    "err_max = qnt[2]-qnt[1]\n",
    "print(\"analytical: \",np.round(h0_res,1),\"+\",np.round(err_max,1),\"-\",np.round(err_min,1)) \n"
   ]
  },
  {
   "cell_type": "code",
   "execution_count": 14,
   "metadata": {},
   "outputs": [],
   "source": [
    "# planck  = 67.4 +- 0.5\n",
    "h0planck = 67.4\n",
    "h0planck_err = 0.5\n",
    "h0licow  = 73.3 # km/s/Mpc\n",
    "h0licow_err = [1.8,1.7]"
   ]
  },
  {
   "cell_type": "code",
   "execution_count": 15,
   "metadata": {},
   "outputs": [],
   "source": [
    "with open(res_dir+\"/ph0_results\"+CP+\".data\",\"rb\") as f:\n",
    "    PH0,H0 = pickle.load(f)"
   ]
  },
  {
   "cell_type": "code",
   "execution_count": 16,
   "metadata": {},
   "outputs": [
    {
     "data": {
      "image/png": "[encoded data removed]",
      "text/plain": [
       "<Figure size 648x648 with 1 Axes>"
      ]
     },
     "metadata": {
      "needs_background": "light"
     },
     "output_type": "display_data"
    }
   ],
   "source": [
    "plot_H0(H0,PH0,figname=res_dir+\"/PH0_dtf\"+CP+\".pdf\",add_mode=False)"
   ]
  },
  {
   "cell_type": "code",
   "execution_count": 17,
   "metadata": {},
   "outputs": [
    {
     "data": {
      "image/png": "[encoded data removed]",
      "text/plain": [
       "<Figure size 648x648 with 1 Axes>"
      ]
     },
     "metadata": {
      "needs_background": "light"
     },
     "output_type": "display_data"
    }
   ],
   "source": [
    "from importlib import reload \n",
    "import plot_H0\n",
    "plot_H0 = reload(plot_H0)#.plot_H0\n",
    "plot_H0 = plot_H0.plot_H0\n",
    "#from plot_H0 import plot_H0\n",
    "plot_H0(H0,PH0,figname=res_dir+\"/PH0_dtf\"+CP+\".png\",add_mode=False,transparent=False)"
   ]
  }
 ],
 "metadata": {
  "kernelspec": {
   "display_name": "Python 3 (ipykernel)",
   "language": "python",
   "name": "python3"
  },
  "language_info": {
   "codemirror_mode": {
    "name": "ipython",
    "version": 3
   },
   "file_extension": ".py",
   "mimetype": "text/x-python",
   "name": "python",
   "nbconvert_exporter": "python",
   "pygments_lexer": "ipython3",
   "version": "3.10.6"
  }
 },
 "nbformat": 4,
 "nbformat_minor": 4
}
