{
 "cells": [
  {
   "cell_type": "code",
   "execution_count": 1,
   "metadata": {},
   "outputs": [],
   "source": [
    "import matplotlib\n",
    "import matplotlib.pyplot as plt\n",
    "import matplotlib.colors\n",
    "import numpy as np\n",
    "\n",
    "from tools_H0 import *\n",
    "from statistical_tools import quantiles"
   ]
  },
  {
   "cell_type": "code",
   "execution_count": 2,
   "metadata": {},
   "outputs": [],
   "source": [
    "font = {'family' : 'DejaVu Sans',\n",
    "        'weight' : 'normal',\n",
    "        'size'   : 16}\n",
    "matplotlib.rc('font', **font)\n",
    "matplotlib.rc('figure',**{'figsize':(12,9)})\n",
    "plt.rc('xtick', labelsize=16)\n",
    "plt.rc('ytick', labelsize=16)"
   ]
  },
  {
   "cell_type": "code",
   "execution_count": 4,
   "metadata": {},
   "outputs": [],
   "source": [
    "def plot_H0(H0,PH0,figname=False,title=r\"$P(H_0)$\",return_plot=False,add_mode=True):\n",
    "    \"\"\"\n",
    "    # Plot H0 posterior compared to the two main results and 1-sigma regions of the litterature (H0LiCOW and Planck)\n",
    "    # Input:\n",
    "    # H0: array\n",
    "    #     sampling of H0\n",
    "    # PH0: array\n",
    "    #     posterior of H0\n",
    "    # figname: string (optional)\n",
    "    #     name of the saved plot (if to be saved)\n",
    "    \"\"\"\n",
    "    x = H0\n",
    "    y = PH0\n",
    "    yh0 = max(PH0)/2\n",
    "    h0_res,err_min,err_max= quantiles(PH0,H0,return_quantiles=False)\n",
    "    fig,ax = plt.subplots(1,1,figsize=(12,12)) \n",
    "    ax.plot(x,y,'b+:')\n",
    "    ax.errorbar(h0_res,yh0,yerr=None,xerr=[[err_min],[err_max]],fmt=\"k\",capsize=4)\n",
    "    ax.scatter(h0_res ,yh0, c=\"k\",marker=\"*\",s=100)#,label=\"$H_0$\"\n",
    "    string_s=str(np.round(h0_res,2))+\"$_{-\"+str(np.round(err_min,2))+\"}^{+\"+str(np.round(err_max,2))+\"}$\"\n",
    "    ax.text(h0_res-.5*len(str(np.round(h0_res,3))),yh0*1.05,s=string_s,c=\"k\",fontsize=16)\n",
    "    ax.set_title(title)\n",
    "    ax.set_ylabel(\"Probability\")\n",
    "    ax.set_xlabel(r\"$H_0\\ [km/s/Mpc]$\")\n",
    "    ax.axvline(h0planck.H0,label=\"Planck\", c=\"r\")\n",
    "    ax.axvline(h0licow.H0, label=\"H0LiCOW\",c=\"g\")\n",
    "    ax.fill_between(np.linspace(h0planck.H0-h0planck.sigma_min, h0planck.H0+ h0planck.sigma_max), -10, 10, color='r', alpha=0.2)\n",
    "    ax.fill_between(np.linspace(h0licow.H0-h0licow.sigma_min,   h0licow.H0 + h0licow.sigma_max),  -10, 10, color='g', alpha=0.2)\n",
    "    ax.set_ylim(0,max(y)*1.1)\n",
    "    if add_mode:\n",
    "        ind_mode = np.where(PH0==np.max(PH0))[0][0]\n",
    "        mode     = H0[ind_mode]\n",
    "        yh0_mode = max(PH0)/3\n",
    "        ax.scatter (mode,yh0_mode,c=\"r\",marker=\"*\",s=100)\n",
    "        ax.errorbar(mode,yh0_mode,yerr=None,xerr=[[err_min],[err_max]],fmt=\"r\",capsize=4)\n",
    "        ax.errorbar(None,None,fmt=\"k\",label=\"Median\")\n",
    "        ax.errorbar(None,None,fmt=\"r\",label=\"Mode\")\n",
    "        string_mode = str(np.round(mode,2))+\"$_{-\"+str(np.round(err_min,2))+\"}^{+\"+str(np.round(err_max,2))+\"}$\"\n",
    "        ax.text(mode-.5*len(str((np.round(mode,2)))),yh0_mode*1.05,string_mode)\n",
    "        \n",
    "    ax.legend()\n",
    "    if return_plot:\n",
    "        return ax\n",
    "    if type(figname) is str:\n",
    "        plt.savefig(figname, transparent=True)\n",
    "    plt.show()"
   ]
  }
 ],
 "metadata": {
  "kernelspec": {
   "display_name": "Python 3 (ipykernel)",
   "language": "python",
   "name": "python3"
  },
  "language_info": {
   "codemirror_mode": {
    "name": "ipython",
    "version": 3
   },
   "file_extension": ".py",
   "mimetype": "text/x-python",
   "name": "python",
   "nbconvert_exporter": "python",
   "pygments_lexer": "ipython3",
   "version": "3.10.6"
  }
 },
 "nbformat": 4,
 "nbformat_minor": 4
}
