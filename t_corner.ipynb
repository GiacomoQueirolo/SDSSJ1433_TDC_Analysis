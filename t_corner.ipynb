{
 "cells": [
  {
   "cell_type": "code",
   "execution_count": null,
   "metadata": {},
   "outputs": [],
   "source": [
    "# Mainly for Dt_AD to check why the larger uncertainty and \n",
    "# to check if it actually depends on the center_y_lens0 parameter"
   ]
  },
  {
   "cell_type": "code",
   "execution_count": null,
   "metadata": {},
   "outputs": [],
   "source": [
    "import argparse\n",
    "\n",
    "parser = argparse.ArgumentParser(description=\"Produces the MCMC posterior and corner plots of SOME parameters, Dt in particular\")\n",
    "parser.add_argument(\"-c\", \"--cut_mcmc\", type=int, dest=\"cut_mcmc\", default=0,\n",
    "                    help=\"cut the first <c> steps of the mcmc to ignore them\")\n",
    "parser.add_argument('SETTING_FILE', help=\"setting file to consider\")\n",
    "args = parser.parse_args()\n",
    "\n",
    "setting_name =  args.SETTING_FILE.replace(\".py\",\"\")\n",
    "cut_mcmc = args.cut_mcmc"
   ]
  },
  {
   "cell_type": "code",
   "execution_count": null,
   "metadata": {},
   "outputs": [],
   "source": [
    "import numpy as np\n",
    "import json\n",
    "from scipy import stats\n",
    "import os,sys\n",
    "from datetime import datetime\n",
    "import time \n",
    "import pickle\n",
    "import importlib\n",
    "import corner\n",
    "import matplotlib.pyplot as plt\n",
    "import copy\n",
    "\n",
    "####################\n",
    "from tools import *\n",
    "present_program(sys.argv[0])\n",
    "####################\n",
    "backup_path=\"./backup_results/\"\n",
    "\n",
    "\n",
    "savemcmc_path=\"./\"+backup_path+\"/\"+setting_name.replace(\"settings_\",\"mcmc_\")+\"/\"\n",
    "savefig_path=\"./\"+backup_path+\"/\"+setting_name.replace(\"settings_\",\"\")+\"/\"\n",
    "mkdir(savefig_path)\n",
    "\n",
    "mcmc_file=savemcmc_path+setting_name.replace(\"settings\",\"mcmc_smpl\")+\".json\"\n",
    "mcmc_fermat_file=savemcmc_path+setting_name.replace(\"settings\",\"mcmc_ordered_fermat\")+\".json\"\n",
    "param_file=savemcmc_path+setting_name.replace(\"settings\",\"mcmc_prm\")+\".dat\"\n",
    "   \n",
    "#MCMC sample\n",
    "with open(mcmc_file, 'r') as f:\n",
    "    samples_mcmc = np.array(json.load(f)[cut_mcmc:])\n",
    "\n",
    "#MCMC sample for Fermat pot\n",
    "#NOTE: they are ordered A,B,C,D\n",
    "with open(mcmc_fermat_file, 'r') as f:\n",
    "    mcmc_fermat = np.array(json.load(f)[cut_mcmc:])\n",
    "\n",
    "\n",
    "#parameters' name\n",
    "param_mcmc=[]\n",
    "with open(param_file,\"r\") as param_file:\n",
    "    param_mcmc=(param_file.readlines())\n",
    "for i in range(len(param_mcmc)):\n",
    "    param_mcmc[i]=param_mcmc[i].replace(\",\\n\",\"\")\n"
   ]
  },
  {
   "cell_type": "code",
   "execution_count": null,
   "metadata": {},
   "outputs": [],
   "source": [
    "# Time delay behaviour\n",
    "########################\n",
    "param_mcmc_t = [\"td_A\",\"td_B\",\"td_C\",\"td_D\"]\n",
    "\n",
    "import numpy as np\n",
    "from Dt_from_Df import Dt_XY\n",
    "from astropy import units as u\n",
    "H0_planck = 67.4*u.km/u.second/u.megaparsec # km/s/Mpc"
   ]
  },
  {
   "cell_type": "code",
   "execution_count": null,
   "metadata": {},
   "outputs": [],
   "source": [
    "setting_dir = find_setting_path(setting_name)\n",
    "sys.path.append(setting_dir)\n",
    "setting_module = importlib.import_module(setting_name)\n",
    "setting = setting_module.setting()"
   ]
  },
  {
   "cell_type": "code",
   "execution_count": null,
   "metadata": {},
   "outputs": [],
   "source": [
    "mcmc_t = Dt_XY(Df_XY=mcmc_fermat,H0=H0_planck,z_l=setting.z_lens,z_s=setting.z_source)\n",
    "# order A, B, C, D"
   ]
  },
  {
   "cell_type": "code",
   "execution_count": null,
   "metadata": {},
   "outputs": [],
   "source": [
    "new_samples = copy.copy(samples_mcmc.T)\n",
    "for t in mcmc_t.T:\n",
    "    new_samples = np.array([*new_samples,t])\n",
    "param_mcmc = param_mcmc + param_mcmc_t"
   ]
  },
  {
   "cell_type": "code",
   "execution_count": null,
   "metadata": {},
   "outputs": [],
   "source": [
    "red_samples = []\n",
    "red_param = []\n",
    "for sample_i,param_i in zip(new_samples,param_mcmc):\n",
    "    if \"td_\" in param_i or \"center_\" in param_i or \"ra_\" in param_i or \"dec_\" in param_i:\n",
    "        red_samples.append(sample_i)\n",
    "        prm_i = param_i\n",
    "        if \"center_\" in param_i:\n",
    "            prm_i = setting.str_param(param_i)\n",
    "        red_param.append(prm_i)\n",
    "red_samples = np.array(red_samples).T\n",
    "\n",
    "plot= corner.corner(red_samples, labels=red_param,show_titles=True)\n",
    "#plot.title(\"$H_0^{Planck} = $\"+str(H0_planck))\n",
    "\n",
    "plot.savefig(savefig_path+\"/t_corner_red.png\")"
   ]
  },
  {
   "cell_type": "code",
   "execution_count": null,
   "metadata": {},
   "outputs": [],
   "source": [
    "# consider also the Dt plot (alone, but now with real Deltas)\n",
    "mcmc_t = np.array(mcmc_t)\n",
    "Delta_T = np.transpose(mcmc_t.T[1:]-mcmc_t.T[0]).tolist()\n",
    "labels = [\"$\\Delta t_{A-B}$\",\"$\\Delta t_{A-C}$\", \"$\\Delta t_{A-D}$\"]\n",
    "plot= corner.corner(np.array(Delta_T), labels=labels,show_titles=True)\n",
    "#plot.title(\"$H_0^{Planck} = $\"+str(H0_planck))\n",
    "plot.savefig(savefig_path+\"/Dt_corner.png\")"
   ]
  },
  {
   "cell_type": "code",
   "execution_count": null,
   "metadata": {},
   "outputs": [],
   "source": [
    "success(sys.argv[0])"
   ]
  }
 ],
 "metadata": {
  "kernelspec": {
   "display_name": "Python 3",
   "language": "python",
   "name": "python3"
  },
  "language_info": {
   "codemirror_mode": {
    "name": "ipython",
    "version": 3
   },
   "file_extension": ".py",
   "mimetype": "text/x-python",
   "name": "python",
   "nbconvert_exporter": "python",
   "pygments_lexer": "ipython3",
   "version": "3.7.6"
  }
 },
 "nbformat": 4,
 "nbformat_minor": 4
}
