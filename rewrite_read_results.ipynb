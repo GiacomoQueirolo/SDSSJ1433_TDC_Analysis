{
 "cells": [
  {
   "cell_type": "raw",
   "metadata": {},
   "source": [
    "#I want to analyse the stacked MCMC run to re-write the results parameter consistently with the MCMC results"
   ]
  },
  {
   "cell_type": "code",
   "execution_count": null,
   "metadata": {},
   "outputs": [],
   "source": [
    "import argparse\n",
    "from corner import quantile\n",
    "import json\n",
    "import pickle\n",
    "import sys\n",
    "import numpy as np\n",
    "from tools import *"
   ]
  },
  {
   "cell_type": "code",
   "execution_count": null,
   "metadata": {},
   "outputs": [],
   "source": [
    "parser = argparse.ArgumentParser(description=\"Produces the read_results_updated.data with the correct values relative to the MCMC run\")\n",
    "parser.add_argument('SETTING_FILE',type=str,help=\"setting file to consider\")\n",
    "parser.add_argument(\"-c\", \"--cut_mcmc\", type=int, dest=\"cut_mcmc\", default=0,\n",
    "                    help=\"cut the first <c> steps of the mcmc to ignore them\")\n",
    "args = parser.parse_args()\n",
    "settings = args.SETTING_FILE\n",
    "cut_mcmc = args.cut_mcmc"
   ]
  },
  {
   "cell_type": "code",
   "execution_count": null,
   "metadata": {},
   "outputs": [],
   "source": [
    "present_program(sys.argv[0])\n",
    "\n",
    "setting_name = settings.replace(\".py\",\"\") \n",
    "backup_path  = \"backup_results\"\n",
    "\n",
    "savemcmc_path=\"./\"+backup_path+\"/\"+setting_name.replace(\"settings_\",\"mcmc_\")+\"/\"\n",
    "savefig_path=\"./\"+backup_path+\"/\"+setting_name.replace(\"settings_\",\"\")+\"/\" \n",
    "\n",
    "mcmc_file=savemcmc_path+setting_name.replace(\"settings\",\"mcmc_smpl\")+\".json\"\n",
    "param_file=savemcmc_path+setting_name.replace(\"settings\",\"mcmc_prm\")+\".dat\"\n",
    "\n",
    "#MCMC sample\n",
    "with open(mcmc_file, 'r') as mcmc_file:\n",
    "    samples_mcmc = np.array(json.load(mcmc_file))[cut_mcmc:]\n",
    "\n",
    "#parameters' name\n",
    "param_mcmc=[]\n",
    "with open(param_file,\"r\") as param_file:\n",
    "    param_mcmc=(param_file.readlines())\n",
    "    \n",
    "for i in range(len(param_mcmc)):\n",
    "    param_mcmc[i]=param_mcmc[i].replace(\",\\n\",\"\")\n",
    "\n",
    "kwargs_results_updated={} \n",
    "n_ra=0\n",
    "n_dec=0  \n",
    "\n",
    "for i in range(len(param_mcmc)):\n",
    "    val = float(quantile(samples_mcmc[:,i],q=.5))\n",
    "    if param_mcmc[i]!=\"ra_image\" and param_mcmc[i]!=\"dec_image\":\n",
    "        kwargs_results_updated[param_mcmc[i]]=val \n",
    "    elif param_mcmc[i]==\"ra_image\":\n",
    "        kwargs_results_updated[\"ra_image_\"+str(n_ra)]=val          \n",
    "        n_ra+=1\n",
    "    else:\n",
    "        kwargs_results_updated[\"dec_image_\"+str(n_dec)]=val          \n",
    "        n_dec+=1"
   ]
  },
  {
   "cell_type": "code",
   "execution_count": null,
   "metadata": {},
   "outputs": [],
   "source": [
    "dataset = kwargs_results_updated\n",
    "outputFile = savefig_path+'/read_results_updated.data'\n",
    "\n",
    "with open(outputFile, 'wb') as file:\n",
    "    pickle.dump(dataset, file)"
   ]
  },
  {
   "cell_type": "code",
   "execution_count": null,
   "metadata": {},
   "outputs": [],
   "source": [
    "success(sys.argv[0])"
   ]
  }
 ],
 "metadata": {
  "kernelspec": {
   "display_name": "Python 3",
   "language": "python",
   "name": "python3"
  },
  "language_info": {
   "codemirror_mode": {
    "name": "ipython",
    "version": 3
   },
   "file_extension": ".py",
   "mimetype": "text/x-python",
   "name": "python",
   "nbconvert_exporter": "python",
   "pygments_lexer": "ipython3",
   "version": "3.7.6"
  }
 },
 "nbformat": 4,
 "nbformat_minor": 4
}
