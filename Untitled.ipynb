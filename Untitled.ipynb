{
 "cells": [
  {
   "cell_type": "code",
   "execution_count": 1,
   "id": "e2b041a8-efba-4b52-a8f7-9bbc57f3b30f",
   "metadata": {},
   "outputs": [],
   "source": [
    "import astropy"
   ]
  },
  {
   "cell_type": "code",
   "execution_count": 9,
   "id": "196465f0-e63b-4d68-843c-2418b3802f32",
   "metadata": {},
   "outputs": [],
   "source": [
    "from astropy.cosmology import default_cosmology\n",
    "import astropy.constants as csnt\n",
    "import astropy.units as unit\n",
    "import numpy as np"
   ]
  },
  {
   "cell_type": "code",
   "execution_count": 24,
   "id": "ad6dcf4d-e00f-408e-9a06-1ffe251a3396",
   "metadata": {},
   "outputs": [
    {
     "data": {
      "text/latex": [
       "$284.09613 \\; \\mathrm{\\frac{km}{s}}$"
      ],
      "text/plain": [
       "<Quantity 284.09612948 km / s>"
      ]
     },
     "execution_count": 24,
     "metadata": {},
     "output_type": "execute_result"
    }
   ],
   "source": [
    "z_lens = 0.1841\n",
    "z_source = 2.366\n",
    "\n",
    "theta = 2.015*unit.arcsec.to(\"rad\")\n",
    "\n",
    "\n",
    "def sigma(theta,z_lens,z_source,cosmo=None):\n",
    "    if cosmo is None:\n",
    "        cosmo = default_cosmology.get()\n",
    "    #cosmo_dd  = cosmo.angular_diameter_distance(z_lens)\n",
    "    cosmo_ds  = cosmo.angular_diameter_distance(z_source)\n",
    "    cosmo_dds = cosmo.angular_diameter_distance_z1z2(z1=z_lens,z2=z_source)\n",
    "    return csnt.c.to(\"km/s\")*np.sqrt(theta*cosmo_ds/(4*np.pi*cosmo_dds))\n",
    "\n",
    "\n",
    "sigma(theta,z_lens=z_lens,z_source=z_source)"
   ]
  },
  {
   "cell_type": "code",
   "execution_count": 25,
   "id": "742b9317-88bf-4c28-abb0-3449a91ab86c",
   "metadata": {},
   "outputs": [
    {
     "data": {
      "text/latex": [
       "$273.93014 \\; \\mathrm{\\frac{km}{s}}$"
      ],
      "text/plain": [
       "<Quantity 273.93013748 km / s>"
      ]
     },
     "execution_count": 25,
     "metadata": {},
     "output_type": "execute_result"
    }
   ],
   "source": [
    "z_lens = 0.407\n",
    "z_source = 2.737\n",
    "\n",
    "theta = 1.6*unit.arcsec.to(\"rad\")\n",
    "sigma(theta,z_lens=z_lens,z_source=z_source)"
   ]
  },
  {
   "cell_type": "code",
   "execution_count": 22,
   "id": "ab777b0a-1d7a-4ee0-889e-a04936289afc",
   "metadata": {},
   "outputs": [
    {
     "data": {
      "text/latex": [
       "$185.57778 \\; \\mathrm{\\frac{km}{s}}$"
      ],
      "text/plain": [
       "<Quantity 185.57778379 km / s>"
      ]
     },
     "execution_count": 22,
     "metadata": {},
     "output_type": "execute_result"
    }
   ],
   "source": [
    "L_475 = 14825657022.945004*csnt.L_sun\n",
    "\n",
    "def sigma_FJr(L_V):\n",
    "    return (200*unit.km/unit.s)*((L_V/(csnt.L_sun*2*10**10))**(1/4))\n",
    "\n",
    "sigma_FJr(L_475)"
   ]
  },
  {
   "cell_type": "code",
   "execution_count": null,
   "id": "ca3e1f77-a563-4b13-8ef8-1d8e98e2866c",
   "metadata": {},
   "outputs": [],
   "source": [
    "cosmo.luminosity_distance(z=)"
   ]
  }
 ],
 "metadata": {
  "kernelspec": {
   "display_name": "Python 3 (ipykernel)",
   "language": "python",
   "name": "python3"
  },
  "language_info": {
   "codemirror_mode": {
    "name": "ipython",
    "version": 3
   },
   "file_extension": ".py",
   "mimetype": "text/x-python",
   "name": "python",
   "nbconvert_exporter": "python",
   "pygments_lexer": "ipython3",
   "version": "3.10.6"
  }
 },
 "nbformat": 4,
 "nbformat_minor": 5
}
