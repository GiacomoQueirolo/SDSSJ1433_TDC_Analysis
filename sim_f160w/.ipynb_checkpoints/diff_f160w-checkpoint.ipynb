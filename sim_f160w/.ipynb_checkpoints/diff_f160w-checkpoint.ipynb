{
 "cells": [
  {
   "cell_type": "code",
   "execution_count": 1,
   "id": "a42e3d59-04d5-4ef8-aaa1-6bf8ce057100",
   "metadata": {
    "collapsed": true,
    "jupyter": {
     "outputs_hidden": true
    },
    "tags": []
   },
   "outputs": [
    {
     "data": {
      "text/plain": [
       "'\\nWe want to recreate f160w using the results from f140w:\\n    - take light and lens model from this\\n    - convolve with the psf of f160w\\n    - scale light profiles by a factor to fit with f160w\\n    - check residual\\n'"
      ]
     },
     "execution_count": 1,
     "metadata": {},
     "output_type": "execute_result"
    }
   ],
   "source": [
    "\"\"\"\n",
    "I want to check what is the actually difference of f160w_7030 and f160w\n",
    "    - assume same psf\n",
    "        - actually try difference of psf\n",
    "    - difference with a scaling factor\n",
    "    - optimise scaling factor minimising the difference\n",
    "\"\"\""
   ]
  },
  {
   "cell_type": "code",
   "execution_count": 1,
   "id": "115e0b2f-cae2-4ee2-8cfc-31b045202cad",
   "metadata": {},
   "outputs": [],
   "source": [
    "from tools import *\n",
    "from get_res import *\n",
    "from create_fits import *\n",
    "from input_data import init_kwrg_data\n",
    "from image_manipulation import create_mask\n",
    "\n",
    "import numpy as np\n",
    "from copy import copy \n",
    "import matplotlib.pyplot as plt"
   ]
  },
  {
   "cell_type": "code",
   "execution_count": null,
   "id": "30013770-45a2-4105-92bb-36ef10eeea7b",
   "metadata": {},
   "outputs": [],
   "source": []
  },
  {
   "cell_type": "code",
   "execution_count": 18,
   "id": "0176608e-abbb-4ce0-a54b-54e7c27c83d3",
   "metadata": {},
   "outputs": [],
   "source": [
    "#F160W = \"f160w\" # \"f160w_7040\"\n",
    "F160W_7030 = \"f160w_7030\"\n",
    "F160W = \"f160w\"\n"
   ]
  },
  {
   "cell_type": "code",
   "execution_count": 29,
   "id": "25be89a4-d14c-40a1-a5e0-8f66bb87a454",
   "metadata": {},
   "outputs": [
    {
     "data": {
      "text/plain": [
       "'skycorr_eF160W_qso_7030.fits'"
      ]
     },
     "execution_count": 29,
     "metadata": {},
     "output_type": "execute_result"
    }
   ],
   "source": [
    "a=get_setting_module(F160W_7030,1)\n",
    "a.image_name\n"
   ]
  },
  {
   "cell_type": "code",
   "execution_count": 19,
   "id": "67661cc7-23e5-4a96-b045-3db7162db42f",
   "metadata": {},
   "outputs": [],
   "source": [
    "f160w_data = init_kwrg_data(F160W)\n",
    "err_f160w  = f160w_data[\"noise_map\"]\n",
    "data_f160w = f160w_data[\"image_data\"]\n",
    "\n",
    "f160w_7030_data = init_kwrg_data(F160W_7030)\n",
    "err_f160w_7030  = f160w_7030_data[\"noise_map\"]\n",
    "data_f160w_7030 = f160w_7030_data[\"image_data\"]"
   ]
  },
  {
   "cell_type": "code",
   "execution_count": 20,
   "id": "aaac709f-35a5-42ce-be5c-7e9c61bfdfb3",
   "metadata": {},
   "outputs": [],
   "source": [
    "mask = create_mask(data_f160w ,setting=F160W)\n",
    "mask_none = copy(mask)\n",
    "mask_none[np.where(mask==0)] = None\n",
    "\n",
    "mask_7030 = create_mask(data_f160w_7030 ,setting=F160W_7030)\n",
    "mask_7030_none = copy(mask_7030)\n",
    "mask_7030_none[np.where(mask_7030==0)] = None"
   ]
  },
  {
   "cell_type": "code",
   "execution_count": 21,
   "id": "06870fe3-4b94-4151-a4f4-a7bca9eb1877",
   "metadata": {},
   "outputs": [],
   "source": [
    "\n",
    "def diff_f160w(fact):\n",
    "    err_sqrt  = np.sqrt(err_f160w**2 + (fact*err_f160w_7030)**2)\n",
    "    diff_data = data_f160w-(fact*data_f160w_7030)\n",
    "    return diff_data/err_sqrt"
   ]
  },
  {
   "cell_type": "code",
   "execution_count": 22,
   "id": "f0a05f3c-38c9-408c-bc1a-9617982f62e3",
   "metadata": {},
   "outputs": [
    {
     "ename": "ValueError",
     "evalue": "operands could not be broadcast together with shapes (102,102) (100,100) ",
     "output_type": "error",
     "traceback": [
      "\u001b[0;31m---------------------------------------------------------------------------\u001b[0m",
      "\u001b[0;31mValueError\u001b[0m                                Traceback (most recent call last)",
      "Input \u001b[0;32mIn [22]\u001b[0m, in \u001b[0;36m<cell line: 6>\u001b[0;34m()\u001b[0m\n\u001b[1;32m      2\u001b[0m     \u001b[38;5;28;01mreturn\u001b[39;00m np\u001b[38;5;241m.\u001b[39mnansum(np\u001b[38;5;241m.\u001b[39mabs(diff_f160w(x)) )\n\u001b[1;32m      5\u001b[0m \u001b[38;5;28;01mfrom\u001b[39;00m \u001b[38;5;21;01mscipy\u001b[39;00m\u001b[38;5;21;01m.\u001b[39;00m\u001b[38;5;21;01moptimize\u001b[39;00m \u001b[38;5;28;01mimport\u001b[39;00m fmin\n\u001b[0;32m----> 6\u001b[0m fact \u001b[38;5;241m=\u001b[39m  \u001b[43mfmin\u001b[49m\u001b[43m(\u001b[49m\u001b[43mto_min\u001b[49m\u001b[43m,\u001b[49m\u001b[38;5;241;43m3\u001b[39;49m\u001b[43m)\u001b[49m\n",
      "File \u001b[0;32m~/.local/lib/python3.10/site-packages/scipy/optimize/_optimize.py:622\u001b[0m, in \u001b[0;36mfmin\u001b[0;34m(func, x0, args, xtol, ftol, maxiter, maxfun, full_output, disp, retall, callback, initial_simplex)\u001b[0m\n\u001b[1;32m    513\u001b[0m \u001b[38;5;124;03m\"\"\"\u001b[39;00m\n\u001b[1;32m    514\u001b[0m \u001b[38;5;124;03mMinimize a function using the downhill simplex algorithm.\u001b[39;00m\n\u001b[1;32m    515\u001b[0m \n\u001b[0;32m   (...)\u001b[0m\n\u001b[1;32m    612\u001b[0m \n\u001b[1;32m    613\u001b[0m \u001b[38;5;124;03m\"\"\"\u001b[39;00m\n\u001b[1;32m    614\u001b[0m opts \u001b[38;5;241m=\u001b[39m {\u001b[38;5;124m'\u001b[39m\u001b[38;5;124mxatol\u001b[39m\u001b[38;5;124m'\u001b[39m: xtol,\n\u001b[1;32m    615\u001b[0m         \u001b[38;5;124m'\u001b[39m\u001b[38;5;124mfatol\u001b[39m\u001b[38;5;124m'\u001b[39m: ftol,\n\u001b[1;32m    616\u001b[0m         \u001b[38;5;124m'\u001b[39m\u001b[38;5;124mmaxiter\u001b[39m\u001b[38;5;124m'\u001b[39m: maxiter,\n\u001b[0;32m   (...)\u001b[0m\n\u001b[1;32m    619\u001b[0m         \u001b[38;5;124m'\u001b[39m\u001b[38;5;124mreturn_all\u001b[39m\u001b[38;5;124m'\u001b[39m: retall,\n\u001b[1;32m    620\u001b[0m         \u001b[38;5;124m'\u001b[39m\u001b[38;5;124minitial_simplex\u001b[39m\u001b[38;5;124m'\u001b[39m: initial_simplex}\n\u001b[0;32m--> 622\u001b[0m res \u001b[38;5;241m=\u001b[39m \u001b[43m_minimize_neldermead\u001b[49m\u001b[43m(\u001b[49m\u001b[43mfunc\u001b[49m\u001b[43m,\u001b[49m\u001b[43m \u001b[49m\u001b[43mx0\u001b[49m\u001b[43m,\u001b[49m\u001b[43m \u001b[49m\u001b[43margs\u001b[49m\u001b[43m,\u001b[49m\u001b[43m \u001b[49m\u001b[43mcallback\u001b[49m\u001b[38;5;241;43m=\u001b[39;49m\u001b[43mcallback\u001b[49m\u001b[43m,\u001b[49m\u001b[43m \u001b[49m\u001b[38;5;241;43m*\u001b[39;49m\u001b[38;5;241;43m*\u001b[39;49m\u001b[43mopts\u001b[49m\u001b[43m)\u001b[49m\n\u001b[1;32m    623\u001b[0m \u001b[38;5;28;01mif\u001b[39;00m full_output:\n\u001b[1;32m    624\u001b[0m     retlist \u001b[38;5;241m=\u001b[39m res[\u001b[38;5;124m'\u001b[39m\u001b[38;5;124mx\u001b[39m\u001b[38;5;124m'\u001b[39m], res[\u001b[38;5;124m'\u001b[39m\u001b[38;5;124mfun\u001b[39m\u001b[38;5;124m'\u001b[39m], res[\u001b[38;5;124m'\u001b[39m\u001b[38;5;124mnit\u001b[39m\u001b[38;5;124m'\u001b[39m], res[\u001b[38;5;124m'\u001b[39m\u001b[38;5;124mnfev\u001b[39m\u001b[38;5;124m'\u001b[39m], res[\u001b[38;5;124m'\u001b[39m\u001b[38;5;124mstatus\u001b[39m\u001b[38;5;124m'\u001b[39m]\n",
      "File \u001b[0;32m~/.local/lib/python3.10/site-packages/scipy/optimize/_optimize.py:793\u001b[0m, in \u001b[0;36m_minimize_neldermead\u001b[0;34m(func, x0, args, callback, maxiter, maxfev, disp, return_all, initial_simplex, xatol, fatol, adaptive, bounds, **unknown_options)\u001b[0m\n\u001b[1;32m    791\u001b[0m \u001b[38;5;28;01mtry\u001b[39;00m:\n\u001b[1;32m    792\u001b[0m     \u001b[38;5;28;01mfor\u001b[39;00m k \u001b[38;5;129;01min\u001b[39;00m \u001b[38;5;28mrange\u001b[39m(N \u001b[38;5;241m+\u001b[39m \u001b[38;5;241m1\u001b[39m):\n\u001b[0;32m--> 793\u001b[0m         fsim[k] \u001b[38;5;241m=\u001b[39m \u001b[43mfunc\u001b[49m\u001b[43m(\u001b[49m\u001b[43msim\u001b[49m\u001b[43m[\u001b[49m\u001b[43mk\u001b[49m\u001b[43m]\u001b[49m\u001b[43m)\u001b[49m\n\u001b[1;32m    794\u001b[0m \u001b[38;5;28;01mexcept\u001b[39;00m _MaxFuncCallError:\n\u001b[1;32m    795\u001b[0m     \u001b[38;5;28;01mpass\u001b[39;00m\n",
      "File \u001b[0;32m~/.local/lib/python3.10/site-packages/scipy/optimize/_optimize.py:496\u001b[0m, in \u001b[0;36m_wrap_scalar_function_maxfun_validation.<locals>.function_wrapper\u001b[0;34m(x, *wrapper_args)\u001b[0m\n\u001b[1;32m    494\u001b[0m ncalls[\u001b[38;5;241m0\u001b[39m] \u001b[38;5;241m+\u001b[39m\u001b[38;5;241m=\u001b[39m \u001b[38;5;241m1\u001b[39m\n\u001b[1;32m    495\u001b[0m \u001b[38;5;66;03m# A copy of x is sent to the user function (gh13740)\u001b[39;00m\n\u001b[0;32m--> 496\u001b[0m fx \u001b[38;5;241m=\u001b[39m \u001b[43mfunction\u001b[49m\u001b[43m(\u001b[49m\u001b[43mnp\u001b[49m\u001b[38;5;241;43m.\u001b[39;49m\u001b[43mcopy\u001b[49m\u001b[43m(\u001b[49m\u001b[43mx\u001b[49m\u001b[43m)\u001b[49m\u001b[43m,\u001b[49m\u001b[43m \u001b[49m\u001b[38;5;241;43m*\u001b[39;49m\u001b[43m(\u001b[49m\u001b[43mwrapper_args\u001b[49m\u001b[43m \u001b[49m\u001b[38;5;241;43m+\u001b[39;49m\u001b[43m \u001b[49m\u001b[43margs\u001b[49m\u001b[43m)\u001b[49m\u001b[43m)\u001b[49m\n\u001b[1;32m    497\u001b[0m \u001b[38;5;66;03m# Ideally, we'd like to a have a true scalar returned from f(x). For\u001b[39;00m\n\u001b[1;32m    498\u001b[0m \u001b[38;5;66;03m# backwards-compatibility, also allow np.array([1.3]),\u001b[39;00m\n\u001b[1;32m    499\u001b[0m \u001b[38;5;66;03m# np.array([[1.3]]) etc.\u001b[39;00m\n\u001b[1;32m    500\u001b[0m \u001b[38;5;28;01mif\u001b[39;00m \u001b[38;5;129;01mnot\u001b[39;00m np\u001b[38;5;241m.\u001b[39misscalar(fx):\n",
      "Input \u001b[0;32mIn [22]\u001b[0m, in \u001b[0;36mto_min\u001b[0;34m(x)\u001b[0m\n\u001b[1;32m      1\u001b[0m \u001b[38;5;28;01mdef\u001b[39;00m \u001b[38;5;21mto_min\u001b[39m(x):\n\u001b[0;32m----> 2\u001b[0m     \u001b[38;5;28;01mreturn\u001b[39;00m np\u001b[38;5;241m.\u001b[39mnansum(np\u001b[38;5;241m.\u001b[39mabs(\u001b[43mdiff_f160w\u001b[49m\u001b[43m(\u001b[49m\u001b[43mx\u001b[49m\u001b[43m)\u001b[49m) )\n",
      "Input \u001b[0;32mIn [21]\u001b[0m, in \u001b[0;36mdiff_f160w\u001b[0;34m(fact)\u001b[0m\n\u001b[1;32m      1\u001b[0m \u001b[38;5;28;01mdef\u001b[39;00m \u001b[38;5;21mdiff_f160w\u001b[39m(fact):\n\u001b[0;32m----> 2\u001b[0m     err_sqrt  \u001b[38;5;241m=\u001b[39m np\u001b[38;5;241m.\u001b[39msqrt(\u001b[43merr_f160w\u001b[49m\u001b[38;5;241;43m*\u001b[39;49m\u001b[38;5;241;43m*\u001b[39;49m\u001b[38;5;241;43m2\u001b[39;49m\u001b[43m \u001b[49m\u001b[38;5;241;43m+\u001b[39;49m\u001b[43m \u001b[49m\u001b[43m(\u001b[49m\u001b[43mfact\u001b[49m\u001b[38;5;241;43m*\u001b[39;49m\u001b[43merr_f160w_7030\u001b[49m\u001b[43m)\u001b[49m\u001b[38;5;241;43m*\u001b[39;49m\u001b[38;5;241;43m*\u001b[39;49m\u001b[38;5;241;43m2\u001b[39;49m)\n\u001b[1;32m      3\u001b[0m     diff_data \u001b[38;5;241m=\u001b[39m data_f160w\u001b[38;5;241m-\u001b[39m(fact\u001b[38;5;241m*\u001b[39mdata_f160w_7030)\n\u001b[1;32m      4\u001b[0m     \u001b[38;5;28;01mreturn\u001b[39;00m diff_data\u001b[38;5;241m/\u001b[39merr_sqrt\n",
      "\u001b[0;31mValueError\u001b[0m: operands could not be broadcast together with shapes (102,102) (100,100) "
     ]
    }
   ],
   "source": [
    "def to_min(x):\n",
    "    return np.nansum(np.abs(diff_f160w(x)) )\n",
    "\n",
    "\n",
    "from scipy.optimize import fmin\n",
    "fact =  fmin(to_min,3)\n"
   ]
  },
  {
   "cell_type": "code",
   "execution_count": 23,
   "id": "dd3dcbe7-5577-4927-b3a3-b7c67b679769",
   "metadata": {},
   "outputs": [
    {
     "name": "stdout",
     "output_type": "stream",
     "text": [
      "[1.]\n"
     ]
    }
   ],
   "source": [
    "print(fact)\n"
   ]
  },
  {
   "cell_type": "code",
   "execution_count": 85,
   "id": "3d1912c2-6a4c-4929-9332-070b0cb4fd10",
   "metadata": {},
   "outputs": [
    {
     "data": {
      "image/png": "[encoded data removed]",
      "text/plain": [
       "<Figure size 432x288 with 1 Axes>"
      ]
     },
     "metadata": {
      "needs_background": "light"
     },
     "output_type": "display_data"
    },
    {
     "data": {
      "image/png": "[encoded data removed]",
      "text/plain": [
       "<Figure size 432x288 with 1 Axes>"
      ]
     },
     "metadata": {
      "needs_background": "light"
     },
     "output_type": "display_data"
    },
    {
     "data": {
      "image/png": "[encoded data removed]",
      "text/plain": [
       "<Figure size 432x288 with 1 Axes>"
      ]
     },
     "metadata": {
      "needs_background": "light"
     },
     "output_type": "display_data"
    }
   ],
   "source": [
    "plt.imshow(mod_f160w)\n",
    "plt.show()\n",
    "plt.imshow(data_f160w)\n",
    "plt.show()\n",
    "plt.imshow(mask*(data_f160w-mod_f160w)/err_f160w)\n",
    "plt.show()\n",
    "\n"
   ]
  },
  {
   "cell_type": "code",
   "execution_count": 86,
   "id": "5e3fd254-7fca-4a73-a3e3-89d25686930f",
   "metadata": {},
   "outputs": [
    {
     "data": {
      "image/png": "[encoded data removed]",
      "text/plain": [
       "<Figure size 432x288 with 1 Axes>"
      ]
     },
     "metadata": {
      "needs_background": "light"
     },
     "output_type": "display_data"
    }
   ],
   "source": [
    "residual = norm_residual(mod_f160w,err_f160w,bandmod_f160)\n",
    "plt.imshow(residual)\n",
    "plt.show()\n"
   ]
  },
  {
   "cell_type": "code",
   "execution_count": 87,
   "id": "fb1b4a03-b5cd-4eac-9bce-51b6cd58bc36",
   "metadata": {},
   "outputs": [
    {
     "name": "stdout",
     "output_type": "stream",
     "text": [
      "saving file backup_results/mod_f160w_7030/f160w_7030_model.fits\n",
      "saving file backup_results/mod_f160w_7030/f160w_7030_norm_residual.fits\n",
      "saving file backup_results/mod_f160w_7030/f160w_7030_abs_residual.fits\n"
     ]
    },
    {
     "data": {
      "text/plain": [
       "0"
      ]
     },
     "execution_count": 87,
     "metadata": {},
     "output_type": "execute_result"
    }
   ],
   "source": [
    "res_dir = \"backup_results/mod_\"+F160W+\"/\"\n",
    "mkdir(res_dir)\n",
    "setting = get_setting_module(F160W,1)\n",
    "data_f160w_pth = setting.data_path+setting.image_name\n",
    "err_file       = setting.data_path+setting.err_name\n",
    "fits_with_copied_hdr(mod_f160w,fits_parent_path=data_f160w_pth,data_object=\"Model of F160W from f140W lens model\",\n",
    "                    fits_res_namepath=res_dir+F160W+\"_model.fits\")\n",
    "fits_with_copied_hdr(residual,fits_parent_path=data_f160w_pth,data_object=\"Normalised Residual of Model F160W  from f140W lens model\",\n",
    "                    fits_res_namepath=res_dir+F160W+\"_norm_residual.fits\")\n",
    "fits_with_copied_hdr(np.abs(data_f160w-mod_f160w)*mask,fits_parent_path=data_f160w_pth,data_object=\"Abs. Residual of Model F160W  from f140W lens model\",\n",
    "                    fits_res_namepath=res_dir+F160W+\"_abs_residual.fits\")\n"
   ]
  },
  {
   "cell_type": "code",
   "execution_count": 1,
   "id": "98ee4fcc-da63-4df6-aaf5-6f8b894374e4",
   "metadata": {},
   "outputs": [
    {
     "ename": "NameError",
     "evalue": "name 'get_kwres' is not defined",
     "output_type": "error",
     "traceback": [
      "\u001b[0;31m---------------------------------------------------------------------------\u001b[0m",
      "\u001b[0;31mNameError\u001b[0m                                 Traceback (most recent call last)",
      "Input \u001b[0;32mIn [1]\u001b[0m, in \u001b[0;36m<cell line: 1>\u001b[0;34m()\u001b[0m\n\u001b[0;32m----> 1\u001b[0m \u001b[43mget_kwres\u001b[49m(\u001b[38;5;124m\"\u001b[39m\u001b[38;5;124mf140w\u001b[39m\u001b[38;5;124m\"\u001b[39m)\n",
      "\u001b[0;31mNameError\u001b[0m: name 'get_kwres' is not defined"
     ]
    }
   ],
   "source": []
  },
  {
   "cell_type": "code",
   "execution_count": 30,
   "id": "2e9f1329-b734-4eea-84fd-3bb7d74ed212",
   "metadata": {},
   "outputs": [
    {
     "ename": "SyntaxError",
     "evalue": "unterminated string literal (detected at line 47) (1744006600.py, line 47)",
     "output_type": "error",
     "traceback": [
      "\u001b[0;36m  Input \u001b[0;32mIn [30]\u001b[0;36m\u001b[0m\n\u001b[0;31m    parser.add_argument(\"\u001b[0m\n\u001b[0m                        ^\u001b[0m\n\u001b[0;31mSyntaxError\u001b[0m\u001b[0;31m:\u001b[0m unterminated string literal (detected at line 47)\n"
     ]
    }
   ],
   "source": [
    "# minimise the residual btw f160w 7030 and f160w 7040 given 1 degree of freedom (scaling)\n",
    "import argparse\n",
    "import numpy as np\n",
    "import matplotlib.pyplot as plt\n",
    "from astropy.io import fits\n",
    "\n",
    "def load_fits(image_path,HDU=0):\n",
    "    #load the image and read it as numpy array\n",
    "    with fits.open(image_path) as hdulist:\n",
    "        image   = hdulist[HDU].data\n",
    "    return image\n",
    "\n",
    "def diff(I0,I1,E0,E1,fact):\n",
    "    return (Im0 - fact*Im1)/np.sqrt(Err0**2 + (Err1*fact)**2)\n",
    "\n",
    "def diff_woE(I0,I1,fact):\n",
    "    return (Im0 - fact*Im1)\n",
    "\n",
    "def to_min(_diff):\n",
    "    return np.sum(np.abs(_diff))\n",
    "\n",
    "def fits_with_copied_hdr(data,fits_parent_path,data_object=\"\",data_history=\"\",fits_res_namepath=None,overwrite=True,verbose=True):    \n",
    "    with fits.open(fits_parent_path,ignore_missing_end=True) as target:\n",
    "        scihdr  = target[0].header\n",
    "    \n",
    "    hdu = fits.PrimaryHDU(data=data,header=scihdr)\n",
    "    \n",
    "    if data_object!=\"\":\n",
    "        hdu.header[\"OBJECT\"]=str(data_object)\n",
    "    \n",
    "    if data_history!=\"\":\n",
    "        hdu.header[\"HISTORY\"]=str(data_history)\n",
    "    \n",
    "    if fits_res_namepath is None:\n",
    "        return hdu\n",
    "    else:\n",
    "        if verbose:\n",
    "            print(\"saving file \"+fits_res_namepath)\n",
    "        hdu.writeto(fits_res_namepath, overwrite=overwrite)\n",
    "        return 0\n",
    "\n",
    "if __name__==\"__main__\":\n",
    "    parser = argparse.ArgumentParser(description=\"Minimised the residual of the weighted difference between 2 f160w filters and save it as fits file\")\n",
    "    parser.add_argument(\"-igE\",\"--ignore_error_frame\", action=\"store_true\", dest=\"igE\", default=False,\n",
    "                    help=\"Ignore error frame for minimisation\")\n",
    "    parser.add_argument('IMAGES_TO_ANALYSE',nargs=2,default=[],help=\"The two image  name (science frame, the error frame has to have the same name with prefix 'e.') \")\n",
    "    parser.add_argument(\"-rgf\",\"--range_factor\",nargs=*,action=\"store\", dest=\"range_factor\",default=[.8,1.2],\n",
    "                       help=\"Define the range of the factor\")\n",
    "    args = parser.parse_args()\n",
    "    \n",
    "    name_Im0,name_Im1=args.IMAGES_TO_ANALYSE\n",
    "    igE  = args.igE\n",
    "    \n",
    "    Im0,Im1 = load_fits(name_Im0),load_fits(name_Im1)\n",
    "    if igE:\n",
    "        print(\"Ignoring Error frames\")\n",
    "    else:\n",
    "        name_Err0,name_Err1 =\"e.\"+name_Im0, \"e.\"+name_Im1\n",
    "        Err0,Err1 = load_fits(name_Err0),load_fits(name_Err1)\n",
    "        \n",
    "    def _diff(f):\n",
    "        if not igE:\n",
    "            return diff(Im0,Im1,Err0,Err1,f)\n",
    "        else:\n",
    "            return diff_woE(Im0,Im1,f)\n",
    "        \n",
    "    fct_val = np.arange(.6,1.6,0.00001)\n",
    "    to_min_val = np.array([to_min(_diff(f)) for f in fct_val])\n",
    "    \n",
    "    fact_min = fct_val[to_min_val.argmin()]\n",
    "    \"\"\"plt.scatter(fct_val,to_min_val,marker=\".\")\n",
    "    plt.axvline(_min,label=\"Minimising Factor:\"+str(_min))\n",
    "    plt.ylabel(\"Error funct(factor)\")\n",
    "    plt.xlabel(\"factor\")\n",
    "    plt.title(\"visual minimisation\")\"\"\"\n",
    "    \n",
    "    print(fact_min,to_min_val[to_min_val.argmin()])\n",
    "    if not igE:\n",
    "        norm_res = diff(Im0,Im1,Err0,Err1,fact_min)\n",
    "    else:\n",
    "        norm_res = diff_woE(Im0,Im1,fact_min)\n",
    "    \n",
    "    \n",
    "    output_name = \"norm_resid_\"+name_Im0.replace(\".fits\",\"\")+\"_\"+name_Im1\n",
    "    if igE:\n",
    "        output_name = \"norm_resid_igE_\"+name_Im0.replace(\".fits\",\"\")+\"_\"+name_Im1\n",
    "    fits_with_copied_hdr(norm_res,name_Im0,data_object=\"NORMALISED_RESIDUAL\",\\\n",
    "                         data_history=\"NR=(Im0-fact*Im1)/sqrt(Err0^2+(Err1*fact)^2)# fact =\"+str(fact_min),\\\n",
    "                         fits_res_namepath=output_name,overwrite=True,verbose=True)\n",
    "\n"
   ]
  },
  {
   "cell_type": "code",
   "execution_count": null,
   "id": "b5255a23",
   "metadata": {},
   "outputs": [],
   "source": []
  }
 ],
 "metadata": {
  "kernelspec": {
   "display_name": "Python 3 (ipykernel)",
   "language": "python",
   "name": "python3"
  },
  "language_info": {
   "codemirror_mode": {
    "name": "ipython",
    "version": 3
   },
   "file_extension": ".py",
   "mimetype": "text/x-python",
   "name": "python",
   "nbconvert_exporter": "python",
   "pygments_lexer": "ipython3",
   "version": "3.10.6"
  }
 },
 "nbformat": 4,
 "nbformat_minor": 5
}
