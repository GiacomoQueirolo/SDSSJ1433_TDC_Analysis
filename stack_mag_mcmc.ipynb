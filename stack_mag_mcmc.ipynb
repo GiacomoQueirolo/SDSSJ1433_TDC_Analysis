{
 "cells": [
  {
   "cell_type": "code",
   "execution_count": 1,
   "metadata": {},
   "outputs": [
    {
     "ename": "ModuleNotFoundError",
     "evalue": "No module named 'get_res'",
     "output_type": "error",
     "traceback": [
      "\u001b[0;31m---------------------------------------------------------------------------\u001b[0m",
      "\u001b[0;31mModuleNotFoundError\u001b[0m                       Traceback (most recent call last)",
      "\u001b[0;32m<ipython-input-1-ed8388cc9e50>\u001b[0m in \u001b[0;36m<module>\u001b[0;34m\u001b[0m\n\u001b[1;32m      1\u001b[0m \u001b[0;32mimport\u001b[0m \u001b[0mjson\u001b[0m\u001b[0;34m\u001b[0m\u001b[0;34m\u001b[0m\u001b[0m\n\u001b[0;32m----> 2\u001b[0;31m \u001b[0;32mfrom\u001b[0m \u001b[0mget_res\u001b[0m \u001b[0;32mimport\u001b[0m \u001b[0;34m*\u001b[0m\u001b[0;34m\u001b[0m\u001b[0;34m\u001b[0m\u001b[0m\n\u001b[0m\u001b[1;32m      3\u001b[0m \u001b[0;32mfrom\u001b[0m \u001b[0mtools\u001b[0m \u001b[0;32mimport\u001b[0m \u001b[0;34m*\u001b[0m\u001b[0;34m\u001b[0m\u001b[0;34m\u001b[0m\u001b[0m\n\u001b[1;32m      4\u001b[0m \u001b[0;32mimport\u001b[0m \u001b[0margparse\u001b[0m\u001b[0;34m\u001b[0m\u001b[0;34m\u001b[0m\u001b[0m\n\u001b[1;32m      5\u001b[0m \u001b[0;32mimport\u001b[0m \u001b[0mcorner\u001b[0m\u001b[0;34m\u001b[0m\u001b[0;34m\u001b[0m\u001b[0m\n",
      "\u001b[0;31mModuleNotFoundError\u001b[0m: No module named 'get_res'"
     ]
    }
   ],
   "source": [
    "import json\n",
    "from get_res import *\n",
    "from tools import *\n",
    "import argparse\n",
    "import corner\n",
    "import matplotlib.pyplot as plt\n",
    "import numpy as np\n",
    "\n",
    "parser = argparse.ArgumentParser(description=\"Stack the mag ratio mcmc chains, obtain a single result and plot it\")\n",
    "parser.add_argument('SETTING_FILES',nargs=\"+\",default=[],help=\"setting file(s) to consider\")\n",
    "args = parser.parse_args()\n",
    "\n",
    "settings  = args.SETTING_FILES\n",
    "save_plot = \"backup_results/PDF_superposition_II/mu_stacking/\"\n",
    "mkdir(save_plot)\n",
    "\n",
    "####################\n",
    "present_program(sys.argv[0])\n",
    "####################\n",
    "\n",
    "mag_stack = []\n",
    "for st in settings:\n",
    "    mag_stack.append(get_mcmc_mag(st))\n",
    "mag_stack = np.vstack(mag_stack).T # shape = 3, n* steps\n",
    "labels = [\"$\\mu_B$/$\\mu_A$\",\"$\\mu_C$/$\\mu_A$\",\"$\\mu_D$/$\\mu_A$\"]\n",
    "for mg_i in range(len(mag_stack)):\n",
    "\n",
    "    vmin,res,vmax = corner.quantile(mag_stack[mg_i],q=[0.16,0.5,0.84])\n",
    "    errmin = res-vmin\n",
    "    errmax = vmax-res\n",
    "    print(\"res =\",res,\"errmin =\",errmin,\"errmax =\",errmax)\n",
    "    plt.figure(figsize=(12,9))    \n",
    "    sigma = np.mean([errmin,errmax])        \n",
    "    count, bins, _ = plt.hist(mag_stack[mg_i], density=True,stacked=True,label=labels[mg_i]+\" :\"+str(round(res,2))+r\"$\\pm$\"+str(round(sigma,3)) )\n",
    "\n",
    "    plt.errorbar(res,max(count)/2.,yerr=None,xerr=[[errmin],[errmax]],fmt=\"+\")\n",
    "    plt.scatter(res,max(count)/2.,marker=\".\")\n",
    "\n",
    "    plt.title(r\"Stacking of \"+labels[mg_i])\n",
    "    plt.xlabel(labels[mg_i]+\" []\")\n",
    "    plt.legend(loc=\"upper right\")\n",
    "    param = \"mu_\"+labels[mg_i].replace(\"\\\\\",\"\").replace(\"/\",\"\").replace(\"$\",\"\").replace(\"mu_\",\"\")[::-1]\n",
    "    plt.savefig(str(save_plot)+\"/\"+param+\".png\")\n",
    "\n",
    "success(sys.argv[0])"
   ]
  },
  {
   "cell_type": "code",
   "execution_count": 2,
   "metadata": {},
   "outputs": [
    {
     "ename": "TypeError",
     "evalue": "quantile() missing 2 required positional arguments: 'x' and 'q'",
     "output_type": "error",
     "traceback": [
      "\u001b[0;31m---------------------------------------------------------------------------\u001b[0m",
      "\u001b[0;31mTypeError\u001b[0m                                 Traceback (most recent call last)",
      "\u001b[0;32m<ipython-input-2-7cbac20c092f>\u001b[0m in \u001b[0;36m<module>\u001b[0;34m\u001b[0m\n\u001b[1;32m      1\u001b[0m \u001b[0;32mimport\u001b[0m \u001b[0mcorner\u001b[0m\u001b[0;34m\u001b[0m\u001b[0;34m\u001b[0m\u001b[0m\n\u001b[0;32m----> 2\u001b[0;31m \u001b[0mcorner\u001b[0m\u001b[0;34m.\u001b[0m\u001b[0mquantile\u001b[0m\u001b[0;34m(\u001b[0m\u001b[0;34m)\u001b[0m\u001b[0;34m\u001b[0m\u001b[0;34m\u001b[0m\u001b[0m\n\u001b[0m",
      "\u001b[0;31mTypeError\u001b[0m: quantile() missing 2 required positional arguments: 'x' and 'q'"
     ]
    }
   ],
   "source": [
    "import corner\n",
    "corner.quantile()"
   ]
  },
  {
   "cell_type": "code",
   "execution_count": null,
   "metadata": {},
   "outputs": [],
   "source": []
  }
 ],
 "metadata": {
  "kernelspec": {
   "display_name": "Python 3",
   "language": "python",
   "name": "python3"
  },
  "language_info": {
   "codemirror_mode": {
    "name": "ipython",
    "version": 3
   },
   "file_extension": ".py",
   "mimetype": "text/x-python",
   "name": "python",
   "nbconvert_exporter": "python",
   "pygments_lexer": "ipython3",
   "version": "3.7.6"
  }
 },
 "nbformat": 4,
 "nbformat_minor": 4
}
