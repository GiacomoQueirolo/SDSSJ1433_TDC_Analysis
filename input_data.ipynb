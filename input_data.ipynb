{
 "cells": [
  {
   "cell_type": "code",
   "execution_count": 1,
   "metadata": {},
   "outputs": [],
   "source": [
    "# Define functions to get kwargs_data, kwargs_numerics and kwargs_psf in order to obtain multi_band_list prior/indep.to the model itself"
   ]
  },
  {
   "cell_type": "code",
   "execution_count": 2,
   "metadata": {},
   "outputs": [],
   "source": [
    "from tools import *\n",
    "from image_manipulation import *\n"
   ]
  },
  {
   "cell_type": "code",
   "execution_count": 6,
   "metadata": {},
   "outputs": [],
   "source": [
    "def init_kwrg_data(setting,saveplots=False,backup_path=\"backup_results\",return_mask=False):\n",
    "    if saveplots:\n",
    "        savefig_path  = get_savefigpath(setting,backup_path) \n",
    "    if isinstance(setting,str):\n",
    "        # else is already the function setting()\n",
    "        setting_module = get_setting_module(setting) \n",
    "        setting = setting_module.setting()\n",
    "\n",
    "    image_file   = setting.data_path+setting.image_name\n",
    "    err_file     = setting.data_path+setting.err_name\n",
    "\n",
    "    image = load_fits(image_file)\n",
    "    if saveplots:\n",
    "        plot_image(image,setting,savefig_path+\"/original_image.png\")\n",
    "    err_image = load_fits(err_file)\n",
    "    # the masking procedure define the mask, subtract the eventual lens light profile,\n",
    "    # plot the error and image masked and return the subtracted (unmasked) image and the mask\n",
    "    mask = create_mask(image,setting)\n",
    "    # Subtract lens light (if necessary)\n",
    "    image_sub = subtract_light(image,setting)\n",
    "\n",
    "    if saveplots:\n",
    "        # Plot the subtracted and masked data image and error\n",
    "        if setting.sub:\n",
    "            plot_image(image_sub*mask,setting,savefig_path+\"/image_sub_mask.png\")\n",
    "        else:\n",
    "            plot_image(image_sub*mask,setting,savefig_path+\"/image_mask.png\")\n",
    "        plot_image(err_image*mask,setting,savefig_path+\"/err_mask.png\",err_image=True)\n",
    "\n",
    "    kwargs_data = { 'noise_map':   err_image,  # noise map\n",
    "                'ra_at_xy_0':  setting.ra_at_xy_0,  # RA  at (0,0) pixel\n",
    "                'dec_at_xy_0': setting.dec_at_xy_0, # DEC at (0,0) pixel \n",
    "                'ra_shift' :   0., #shifts the coordinate system with respect to 'ra_at_xy_0'    \n",
    "                'dec_shift':   0., #shifts the coordinate system with respect to 'dec_at_xy_0'    \n",
    "                'transform_pix2angle': setting.transform_pix2angle,#Mpix2coord,  \n",
    "                # matrix to translate shift in pixel in shift in relative RA/DEC (2x2 matrix). \n",
    "                # Make sure it's units are arcseconds or the angular units you want to model.\n",
    "                'image_data': image_sub  # 2d data vector\n",
    "              }\n",
    "    if not return_mask:\n",
    "        return kwargs_data\n",
    "    else:\n",
    "        return kwargs_data,mask"
   ]
  },
  {
   "cell_type": "code",
   "execution_count": 4,
   "metadata": {},
   "outputs": [],
   "source": [
    "def init_kwrg_psf(setting,saveplots=False,backup_path=\"backup_results\"):\n",
    "    if isinstance(setting,str):\n",
    "        # else is already the function setting()\n",
    "        setting_module = get_setting_module(setting) \n",
    "        setting = setting_module.setting()\n",
    "    psf_file     = setting.data_path+setting.psf_name \n",
    "    err_psf_file = setting.data_path+setting.err_psf\n",
    "    psf_image = load_fits(psf_file)\n",
    "    if saveplots:\n",
    "        savefig_path  = get_savefigpath(setting,backup_path) \n",
    "        if setting.pssf>1:\n",
    "            plot_image(psf_image,setting,savefig_path+\"/psf_supersampled.png\")\n",
    "        else:\n",
    "            plot_image(psf_image,setting,savefig_path+\"/psf.png\")\n",
    "\n",
    "    #We import the psf error image \n",
    "    err_psf_image = load_fits(err_psf_file)\n",
    "    err_psf_image = psf_correction(err_psf_image,setting)\n",
    "    if saveplots:\n",
    "        plot_image(err_psf_image,setting,savefig_path+\"/err_psf.png\",err_image=True)\n",
    "\n",
    "\n",
    "    kwargs_psf = {'psf_type': \"PIXEL\", \n",
    "                  'kernel_point_source':psf_image,\n",
    "                  'point_source_supersampling_factor':setting.pssf,\n",
    "                  'psf_error_map':err_psf_image}\n",
    "    return kwargs_psf"
   ]
  },
  {
   "cell_type": "code",
   "execution_count": 5,
   "metadata": {},
   "outputs": [],
   "source": [
    "def init_kwrg_numerics(setting):\n",
    "    if isinstance(setting,str):\n",
    "        # else is already the function setting()\n",
    "        setting_module = get_setting_module(setting) \n",
    "        setting = setting_module.setting()\n",
    "\n",
    "    if setting.pssf==1:\n",
    "        kwargs_numerics = {'supersampling_factor': 1, 'supersampling_convolution': False}\n",
    "    else:\n",
    "        kwargs_numerics = {'supersampling_factor': setting.pssf, 'supersampling_convolution': True,\n",
    "                            \"supersampling_kernel_size\":setting.ssks,# int (odd number), size (in regular pixel units) of the super-sampled convolution\n",
    "                            'point_source_supersampling_factor':setting.pssf} #not sure this is needed -> it is\n",
    "    return kwargs_numerics"
   ]
  },
  {
   "cell_type": "code",
   "execution_count": 7,
   "metadata": {},
   "outputs": [],
   "source": [
    "def init_multi_band_list(setting,saveplots=False,backup_path=\"backup_results\"):\n",
    "    # setting can be the string with the name of the setting or the instance of the relative setting function \n",
    "    kwargs_data     = init_kwrg_data(setting,saveplots,backup_path)\n",
    "    kwargs_psf      = init_kwrg_psf(setting,saveplots,backup_path)\n",
    "    kwargs_numerics = init_kwrg_numerics(setting)\n",
    "    multi_band_list = [[kwargs_data, kwargs_psf, kwargs_numerics]]\n",
    "    return multi_band_list"
   ]
  },
  {
   "cell_type": "code",
   "execution_count": null,
   "metadata": {},
   "outputs": [],
   "source": []
  }
 ],
 "metadata": {
  "kernelspec": {
   "display_name": "Python 3",
   "language": "python",
   "name": "python3"
  },
  "language_info": {
   "codemirror_mode": {
    "name": "ipython",
    "version": 3
   },
   "file_extension": ".py",
   "mimetype": "text/x-python",
   "name": "python",
   "nbconvert_exporter": "python",
   "pygments_lexer": "ipython3",
   "version": "3.7.6"
  }
 },
 "nbformat": 4,
 "nbformat_minor": 4
}
