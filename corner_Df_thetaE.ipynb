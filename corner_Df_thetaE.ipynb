{
 "cells": [
  {
   "cell_type": "code",
   "execution_count": null,
   "metadata": {},
   "outputs": [],
   "source": [
    "import numpy as np\n",
    "import importlib\n",
    "import os,sys\n",
    "import json\n",
    "import argparse\n",
    "import corner\n",
    "from copy import copy\n",
    "\n",
    "from tools import *\n",
    "from get_res import *\n",
    "if __name__==\"__main__\":\n",
    "    parser = argparse.ArgumentParser(description=\"Plot the corner plot of Df with theta_E of the main lens\")\n",
    "    parser.add_argument('SETTING_FILES',nargs=\"+\",default=[],help=\"setting file(s) to consider\")\n",
    "    args = parser.parse_args()\n",
    "    \n",
    "    settings=args.SETTING_FILES\n",
    "\n",
    "    \n",
    "    ####################\n",
    "    present_program(sys.argv[0])\n",
    "    ####################\n",
    "\n",
    "    \n",
    "    labels = [r\"$\\theta^1_E$\",\"$\\Delta\\phi_{Fermat} AB$\", \"$\\Delta\\phi_{Fermat} AC$\",\"$\\Delta\\phi_{Fermat} BC$\"]\n",
    "\n",
    "    for sets in settings:\n",
    "        savefig_path = get_savefigpath(sets)\n",
    "        f = get_mcmc_fermat(sets).T\n",
    "        df = np.array([f[1]-f[0],f[2]-f[0],f[2]-f[1]]) #AB,AC,BC\n",
    "        smpl  = get_mcmc_smpl(sets)\n",
    "        param = get_mcmc_prm(sets)\n",
    "        for i,prm in enumerate(param):\n",
    "            if \"theta_E_lens0\" in prm:\n",
    "                theta_E = smpl.T[i]\n",
    "        crn = [theta_E,*df.tolist()]\n",
    "        title = sets.replace(\"_\",\" \").replace(\".py\",\"\").replace(\"settings\",\"\")\n",
    "        plot = corner.corner(np.transpose(crn), labels=labels, show_titles=True)\n",
    "        plot.suptitle(title, fontsize=16)\n",
    "        plot.savefig(savefig_path+\"/Corner_Df_thetaE.pdf\")\n",
    "    success(sys.argv[0])"
   ]
  },
  {
   "cell_type": "code",
   "execution_count": 1,
   "metadata": {},
   "outputs": [],
   "source": [
    "import corner\n",
    "corner.corner()\n"
   ]
  },
  {
   "cell_type": "code",
   "execution_count": null,
   "metadata": {},
   "outputs": [],
   "source": []
  }
 ],
 "metadata": {
  "kernelspec": {
   "display_name": "Python 3",
   "language": "python",
   "name": "python3"
  },
  "language_info": {
   "codemirror_mode": {
    "name": "ipython",
    "version": 3
   },
   "file_extension": ".py",
   "mimetype": "text/x-python",
   "name": "python",
   "nbconvert_exporter": "python",
   "pygments_lexer": "ipython3",
   "version": "3.7.6"
  }
 },
 "nbformat": 4,
 "nbformat_minor": 4
}
