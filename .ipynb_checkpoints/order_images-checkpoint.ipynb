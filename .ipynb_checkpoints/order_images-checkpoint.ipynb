{
 "cells": [
  {
   "cell_type": "code",
   "execution_count": null,
   "metadata": {},
   "outputs": [],
   "source": [
    "# A general way to order the images in a standardised order"
   ]
  },
  {
   "cell_type": "code",
   "execution_count": 38,
   "metadata": {},
   "outputs": [],
   "source": [
    "import numpy as np\n",
    "#wo A order   x    B       ,     C      ,    D\n",
    "ra_ordered  = [-0.00221745, -0.76000637, 2.04098104 ] \n",
    "dec_ordered = [-3.75414086, -2.12910109, -2.17638207 ]\n",
    "\n",
    "def image_order(ra,dec,ret_order=True,verbose=True):\n",
    "    if len(ra)!=len(dec):\n",
    "        raise ValueError(\"Give array of the same lenght!\")\n",
    "    if len(ra)==4:\n",
    "        if verbose:\n",
    "            print(\"Consider the first image to be A by construction\")\n",
    "        ra = ra[1:]\n",
    "        dec= dec[1:]\n",
    "    image_order = []\n",
    "    for r,d in zip(ra,dec):\n",
    "        dist =[]\n",
    "        for ro,do in zip(ra_ordered,dec_ordered):\n",
    "            dist.append(np.sqrt((r-ro)**2 + (d-do)**2))\n",
    "        #print(r,d,dist,np.argsort(dist))\n",
    "        #min_dist = np.argsort(dist)[0]\n",
    "        min_dist = np.where(dist==min(dist))[0][0]\n",
    "        image_order.append(min_dist)\n",
    "    if not np.all(np.unique(image_order,return_counts=True)[1]==np.ones_like(image_order)):\n",
    "        raise ValueError(\"Something went wrong, there are multiply images for the same name\")\n",
    "    \n",
    "    image_order= np.argsort(image_order)\n",
    "    \n",
    "    if ret_order: # I only return the order to be applied to the array \n",
    "        return image_order\n",
    "    else:\n",
    "        return ra[image_order],dec[image_order]"
   ]
  },
  {
   "cell_type": "code",
   "execution_count": null,
   "metadata": {},
   "outputs": [],
   "source": [
    "from tools import get_setting_module\n",
    "from get_res import get_mcmc_prm,get_mcmc_smpl\n",
    "\n",
    "def get_new_image_order(setting,mcmc=None,starting_from_A=True,backup_path=\"backup_results\"):\n",
    "    setting = get_setting_module(setting,1)\n",
    "    param_mcmc   = get_mcmc_prm(setting,backup_path)\n",
    "    if mcmc is None:\n",
    "        mcmc = get_mcmc_smpl(setting,backup_path)\n",
    "    len_radec = min([300,len(mcmc)])\n",
    "    if len_radec<20:\n",
    "        print(\"Warning: You are only using \"+str(len_radec)+\" steps to determine the order.\\\n",
    "                     I hope you know what you are doing\")\n",
    "    ra_ord,dec_ord = [],[]    \n",
    "    for i in range(len_radec):\n",
    "        kwargs_result_i = setting.produce_kwargs_result(mcmc,param_mcmc,i)\n",
    "        x_image         = kwargs_result_i[\"kwargs_ps\"][0][\"ra_image\"]\n",
    "        y_image         = kwargs_result_i[\"kwargs_ps\"][0][\"dec_image\"]\n",
    "        ra_ord.append(x_image)\n",
    "        dec_ord.append(y_image)\n",
    "    ra_ord  = np.mean(ra_ord,axis=0)\n",
    "    dec_ord = np.mean(dec_ord,axis=0)\n",
    "    new_order = image_order(ra_ord,dec_ord)\n",
    "    if starting_from_A:\n",
    "        new_order+= 1 #bc it gives the order assuming A in 0\n",
    "        new_order = [0,*new_order]\n",
    "    return new_order"
   ]
  },
  {
   "cell_type": "code",
   "execution_count": 45,
   "metadata": {},
   "outputs": [
    {
     "name": "stdout",
     "output_type": "stream",
     "text": [
      "Consider the first image to be by definition A\n"
     ]
    },
    {
     "data": {
      "text/plain": [
       "array(['A', 'B', 'C', 'D'], dtype='<U1')"
      ]
     },
     "execution_count": 45,
     "metadata": {},
     "output_type": "execute_result"
    }
   ],
   "source": [
    "# test:\n",
    "#      A,   C , D  ,  B\n",
    "\"\"\"\n",
    "ra_names = np.array([\"A\",\"C\",\"D\",\"B\"])\n",
    "ra  = np.array([0,-0.79,2.0,  0.01  ])\n",
    "dec = np.array([0,-2.1,-2.4,-3.8 ])\n",
    "order = image_order(ra,dec)\n",
    "\n",
    "order+=1\n",
    "order= [0,*order]\n",
    "ra_names[order]\n",
    "\"\"\""
   ]
  }
 ],
 "metadata": {
  "kernelspec": {
   "display_name": "Python 3 (ipykernel)",
   "language": "python",
   "name": "python3"
  },
  "language_info": {
   "codemirror_mode": {
    "name": "ipython",
    "version": 3
   },
   "file_extension": ".py",
   "mimetype": "text/x-python",
   "name": "python",
   "nbconvert_exporter": "python",
   "pygments_lexer": "ipython3",
   "version": "3.10.6"
  }
 },
 "nbformat": 4,
 "nbformat_minor": 4
}
