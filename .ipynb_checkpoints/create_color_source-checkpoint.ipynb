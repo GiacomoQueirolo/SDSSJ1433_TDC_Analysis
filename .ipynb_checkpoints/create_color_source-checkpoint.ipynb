{
 "cells": [
  {
   "cell_type": "code",
   "execution_count": 1,
   "id": "fb6dca2d-2eb3-4fbd-802d-365864582d9c",
   "metadata": {},
   "outputs": [],
   "source": [
    "# from talk of 5th okt 22\n",
    "# create a source image from the reconstructed one obtained from the different infrared filters\n",
    "import sys\n",
    "import numpy as np\n",
    "from argparse import ArgumentParser\n",
    "\n",
    "from tools import *\n",
    "from get_res import *\n",
    "from input_data import *\n",
    "from create_fits import source_light\n",
    "from conversion import conv_radec_to_xy\n",
    "from image_manipulation import fits_with_copied_hdr,shift_astrometry\n",
    "from lenstronomy.ImSim.MultiBand.single_band_multi_model import SingleBandMultiModel\n",
    "\n",
    "\n",
    "def get_bandmodel_2xSource(setting):\n",
    "    kwargs_model     = get_kwargs_model(setting)\n",
    "    kwargs_model[\"source_light_model_list\"] = [\"SERSIC\",\"SERSIC\"]\n",
    "    kwargs_data,mask = init_kwrg_data(setting,return_mask=True)\n",
    "    kwargs_numerics  = init_kwrg_numerics(setting)\n",
    "    kwargs_psf       = init_kwrg_psf(setting,saveplots=False)\n",
    "    multi_band_list  = [[kwargs_data, kwargs_psf, kwargs_numerics]]\n",
    "    image_likelihood_mask_list = [mask.tolist()]\n",
    "    bandmodel = SingleBandMultiModel(multi_band_list, kwargs_model, likelihood_mask_list=image_likelihood_mask_list,band_index=0)\n",
    "    return bandmodel\n",
    "\n",
    "if __name__==\"__main__\":\n",
    "    present_program(sys.argv[0])\n",
    "    \n",
    "    parser = ArgumentParser(description=\"Create fits file with delensed source in colors\")\n",
    "    parser.add_argument('SETTING_FILES',nargs=\"+\",default=[],help=\"setting file(s) to consider\")\n",
    "    args = parser.parse_args()\n",
    "    settings    = get_setting_module(args.SETTING_FILES,sett=True)\n",
    "    for i,sett in enumerate(settings):\n",
    "        if not check_if_WS(sett):\n",
    "            bandmodel = None\n",
    "            if len(sett.source_params[0])==2:\n",
    "                bandmodel = get_bandmodel_2xSource(sett)\n",
    "            SL = source_light(sett,unconvolved=True,delensed=True,bandmodel=bandmodel)\n",
    "            save_name = get_savefigpath(sett)+\"/source_deconvlv_\"+strip_setting_name(sett)+\".fits\"\n",
    "            orig_imname = sett.data_path+sett.image_name\n",
    "            fits = fits_with_copied_hdr(SL,orig_imname,data_object=\"Source deconvolved\",fits_res_namepath=None)\n",
    "            if i==0:\n",
    "                A_radec   = [sett.x_image[0],sett.y_image[0]]\n",
    "                coord_A   = np.array(A_radec) +np.array([218.3449834 , 60.12145745])\n",
    "                coord_Axy = np.reshape(conv_radec_to_xy(sett,*A_radec),2)\n",
    "                fits = shift_astrometry(fits,coord_A,coord_Axy)\n",
    "            else:\n",
    "                A_radec   = [sett.x_image[0],sett.y_image[0]]\n",
    "                coord_Axy = np.reshape(conv_radec_to_xy(sett,*A_radec),2)\n",
    "                fits = shift_astrometry(fits,coord_A,coord_Axy)\n",
    "            print(\"Saving \",save_name)\n",
    "            fits.writeto(save_name, overwrite=True)\n",
    "    success(sys.argv[0])"
   ]
  },
  {
   "cell_type": "code",
   "execution_count": 3,
   "id": "aa757e5e-a7af-475a-a973-2afdff24fb71",
   "metadata": {},
   "outputs": [
    {
     "data": {
      "text/plain": [
       "<function image_manipulation.fits_with_copied_hdr(data, fits_parent_path, data_object='', data_history='', fits_res_namepath=None, overwrite=True, verbose=True)>"
      ]
     },
     "execution_count": 3,
     "metadata": {},
     "output_type": "execute_result"
    }
   ],
   "source": []
  },
  {
   "cell_type": "code",
   "execution_count": 1,
   "id": "966b2b1d-1917-433f-8a14-1fdc700f200a",
   "metadata": {},
   "outputs": [],
   "source": [
    "strip_setting_name"
   ]
  },
  {
   "cell_type": "code",
   "execution_count": null,
   "id": "cac282e5-bb9e-462a-b860-a918b203a4de",
   "metadata": {},
   "outputs": [],
   "source": []
  }
 ],
 "metadata": {
  "kernelspec": {
   "display_name": "Python 3 (ipykernel)",
   "language": "python",
   "name": "python3"
  },
  "language_info": {
   "codemirror_mode": {
    "name": "ipython",
    "version": 3
   },
   "file_extension": ".py",
   "mimetype": "text/x-python",
   "name": "python",
   "nbconvert_exporter": "python",
   "pygments_lexer": "ipython3",
   "version": "3.10.6"
  }
 },
 "nbformat": 4,
 "nbformat_minor": 5
}
