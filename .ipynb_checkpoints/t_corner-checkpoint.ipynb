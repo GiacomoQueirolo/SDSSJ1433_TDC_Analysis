{
 "cells": [
  {
   "cell_type": "code",
   "execution_count": null,
   "metadata": {},
   "outputs": [],
   "source": [
    "# Mainly for Dt_AD to check why the larger uncertainty and \n",
    "# to check if it actually depends on the center_y_lens0 parameter"
   ]
  },
  {
   "cell_type": "code",
   "execution_count": null,
   "metadata": {},
   "outputs": [],
   "source": [
    "import numpy as np\n",
    "import os,sys\n",
    "import corner\n",
    "import matplotlib.pyplot as plt\n",
    "from copy import copy\n",
    "from astropy import units as u\n",
    "import argparse\n",
    "\n",
    "####################\n",
    "from tools import *\n",
    "from get_res import *\n",
    "from Dt_from_Df import Dt_XY\n"
   ]
  },
  {
   "cell_type": "code",
   "execution_count": null,
   "metadata": {},
   "outputs": [],
   "source": [
    "param_mcmc_t = [\"td_A\",\"td_B\",\"td_C\",\"td_D\"]\n",
    "H0_planck = 67.4*u.km/u.second/u.megaparsec # km/s/Mpc\n",
    "\n",
    "def t_corner(setting,cut_mcmc,save=False):\n",
    "    setting = get_setting_module(setting).setting()\n",
    "    savefig_path  = get_savefigpath(setting)\n",
    "    #MCMC sample\n",
    "    samples_mcmc = np.array(get_mcmc_smpl(setting,backup_path)[cut_mcmc:])\n",
    "    #MCMC sample for Fermat pot\n",
    "    #NOTE: they are ordered A,B,C,D\n",
    "    mcmc_fermat = np.array(get_mcmc_fermat(setting,backup_path)[cut_mcmc:])\n",
    "    #parameters' name\n",
    "    param_mcmc =get_mcmc_prm(setting,backup_path)\n",
    "    # Time delay behaviour\n",
    "    ########################\n",
    "    mcmc_t = Dt_XY(Df_XY=mcmc_fermat,H0=H0_planck,z_l=setting.z_lens,z_s=setting.z_source)\n",
    "    # order A, B, C, D\n",
    "    new_samples = copy(samples_mcmc.T)\n",
    "    for t in mcmc_t.T:\n",
    "        new_samples = np.array([*new_samples,t])\n",
    "    param_mcmc = param_mcmc + param_mcmc_t\n",
    "    red_samples = []\n",
    "    red_param = []\n",
    "    for sample_i,param_i in zip(new_samples,param_mcmc):\n",
    "        if \"td_\" in param_i or \"center_\" in param_i or \"ra_\" in param_i or \"dec_\" in param_i:\n",
    "            red_samples.append(sample_i)\n",
    "            prm_i = param_i\n",
    "            if \"center_\" in param_i:\n",
    "                prm_i = setting.str_param(param_i)\n",
    "            red_param.append(prm_i)\n",
    "    red_samples = np.array(red_samples).T\n",
    "    \n",
    "    mcmc_t  = np.array(mcmc_t)\n",
    "    Delta_T = np.transpose(mcmc_t.T[1:]-mcmc_t.T[0]).tolist()\n",
    "    labels_DT  = [\"$\\Delta t_{A-B}$\",\"$\\Delta t_{A-C}$\", \"$\\Delta t_{A-D}$\"]\n",
    "    if save:\n",
    "        plot= corner.corner(red_samples, labels=red_param,show_titles=True)\n",
    "        plot.savefig(savefig_path+\"/t_corner_red.png\")\n",
    "\n",
    "        # consider also the Dt plot (alone, but now with real Deltas)\n",
    "        plot    = corner.corner(np.array(Delta_T), labels=labels_DT,show_titles=True)\n",
    "        #plot.title(\"$H_0^{Planck} = $\"+str(H0_planck))\n",
    "        plot.savefig(savefig_path+\"/Dt_corner.png\")\n",
    "    else:\n",
    "        return red_samples,red_param,Delta_T,labels_DT"
   ]
  },
  {
   "cell_type": "code",
   "execution_count": null,
   "metadata": {},
   "outputs": [],
   "source": [
    "if __name__==\"__main__\":\n",
    "\n",
    "    parser = argparse.ArgumentParser(description=\"Produces the MCMC posterior and corner plots of SOME parameters, Dt in particular\")\n",
    "    parser.add_argument(\"-c\", \"--cut_mcmc\", type=int, dest=\"cut_mcmc\", default=0,\n",
    "                        help=\"cut the first <c> steps of the mcmc to ignore them\")\n",
    "    parser.add_argument('SETTING_FILES',nargs=\"+\",default=[], help=\"setting file(s) to consider\")\n",
    "    args = parser.parse_args()\n",
    "    settings = [get_setting_module(sett).setting() for sett in args.SETTING_FILES]\n",
    "    cut_mcmc = args.cut_mcmc\n",
    "    ##########################\n",
    "    present_program(sys.argv[0])\n",
    "    ##########################\n",
    "    backup_path=\"./backup_results/\"\n",
    "    for setts in settings:\n",
    "        if len(settings)>1:\n",
    "            print(\"Setting \"+get_setting_name(setts)) \n",
    "        t_corner(setts,cut_mcmc,save=True)\n",
    "    success(sys.argv[0])"
   ]
  }
 ],
 "metadata": {
  "kernelspec": {
   "display_name": "Python 3 (ipykernel)",
   "language": "python",
   "name": "python3"
  },
  "language_info": {
   "codemirror_mode": {
    "name": "ipython",
    "version": 3
   },
   "file_extension": ".py",
   "mimetype": "text/x-python",
   "name": "python",
   "nbconvert_exporter": "python",
   "pygments_lexer": "ipython3",
   "version": "3.10.4"
  }
 },
 "nbformat": 4,
 "nbformat_minor": 4
}
