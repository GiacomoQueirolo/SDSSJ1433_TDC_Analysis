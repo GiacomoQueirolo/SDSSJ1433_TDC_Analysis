{
 "cells": [
  {
   "cell_type": "code",
   "execution_count": 1,
   "id": "d597ce11-3c1f-44fe-a7f7-b6562b13e7f9",
   "metadata": {},
   "outputs": [],
   "source": [
    "# Idea: use the first program to define in which boundary of the parametric space the posterior are overlapping, \n",
    "# then compute a kde only within that region for each filter posterior with only the subset of point contained in there\n",
    "# and then multiply them togheter\n",
    "\n",
    "# the Prior correction shows it works in that case:"
   ]
  },
  {
   "cell_type": "code",
   "execution_count": 2,
   "id": "be9d2740-453d-4925-81db-ef14258eb651",
   "metadata": {},
   "outputs": [
    {
     "ename": "SyntaxError",
     "evalue": "import * only allowed at module level (order_images.py, line 49)",
     "output_type": "error",
     "traceback": [
      "Traceback \u001b[0;36m(most recent call last)\u001b[0m:\n",
      "  File \u001b[1;32m~/.local/lib/python3.10/site-packages/IPython/core/interactiveshell.py:3397\u001b[0m in \u001b[1;35mrun_code\u001b[0m\n    exec(code_obj, self.user_global_ns, self.user_ns)\n",
      "  Input \u001b[1;32mIn [2]\u001b[0m in \u001b[1;35m<cell line: 14>\u001b[0m\n    from Prior import Df_prior, Df_prior_ABC\n",
      "  File \u001b[1;32m~/Desktop/UNI_Muenchen/Thesis/lenstronomy/SDSSJ1433/general_program/Prior.py:24\u001b[0m in \u001b[1;35m<module>\u001b[0m\n    from mag_remastered import get_mag_mcmc\n",
      "\u001b[0;36m  File \u001b[0;32m~/Desktop/UNI_Muenchen/Thesis/lenstronomy/SDSSJ1433/general_program/mag_remastered.py:17\u001b[0;36m in \u001b[0;35m<module>\u001b[0;36m\u001b[0m\n\u001b[0;31m    from order_images import get_new_image_order\u001b[0m\n",
      "\u001b[0;36m  File \u001b[0;32m~/Desktop/UNI_Muenchen/Thesis/lenstronomy/SDSSJ1433/general_program/order_images.py:49\u001b[0;36m\u001b[0m\n\u001b[0;31m    from get_res import *\u001b[0m\n\u001b[0m                        ^\u001b[0m\n\u001b[0;31mSyntaxError\u001b[0m\u001b[0;31m:\u001b[0m import * only allowed at module level\n"
     ]
    }
   ],
   "source": [
    "import copy\n",
    "import os,sys\n",
    "import argparse\n",
    "import numpy as np\n",
    "import json,pickle\n",
    "from os import walk\n",
    "import pathlib as pth\n",
    "from corner import corner\n",
    "import matplotlib.pyplot as plt\n",
    "\n",
    "#my libs\n",
    "from tools import *\n",
    "from get_res import *\n",
    "from Multiply_PDF import get_minmax\n",
    "from Prior import Df_prior, Df_prior_ABC\n",
    "from statistical_tools import get_bins_volume\n",
    "from combinedsetting_class import combined_setting"
   ]
  },
  {
   "cell_type": "code",
   "execution_count": null,
   "id": "8264d01c-d842-438f-a3fe-b9d81f5a65ee",
   "metadata": {},
   "outputs": [],
   "source": [
    "parser = argparse.ArgumentParser(description=\"Plot the multiplied posterior distribution of the Fermat potential difference from the given filters - 2nd step\",\n",
    "                            usage='pokus --help',)\n",
    "parser.add_argument(\"-n\",\"--name\",type=str,dest=\"dir_name\", default=\".\",\n",
    "                    help=\"Directory name where to save the multiplied posteriors\")\n",
    "\"\"\"parser.add_argument(\"-nb\",\"--number_bins\",type=int, dest=\"nbins\", default=40,\n",
    "                    help=\"Number of bins per dimension (be careful with it! too many bins can be catastrophic)\")\n",
    "parser.add_argument(\"-ms\",\"--mcmc_steps\",type=int, dest=\"mcmc_steps\", default=1000,\n",
    "                    help=\"Number of steps for the MCMC sampling and plot\")\n",
    "parser.add_argument(\"-mp\",\"--mcmc_prior\",type=int, dest=\"mcmc_prior\", default=1000,\n",
    "                    help=\"Number of steps for the MCMC sampling of the Priors\")\n",
    "parser.add_argument(\"-KDE\", action=\"store_true\", dest=\"KDE\", default=False,\n",
    "                    help=\"Use KDE (Kernel Density Estimator) instead of histograms (WARNING:Very slow for high number of points and/or bins)\")\n",
    "parser.add_argument(\"-mcmc\",\"--MCMC\", action=\"store_true\", dest=\"mcmc\", default=False,\n",
    "                    help=\"Also do the MCMC integration of the posterior\")\n",
    "#parser.add_argument(\"-b\",\"--boundaries\", action=\"store_true\", dest=\"boundaries\", default=False,\n",
    "#                    help=\"Consider more precise but long prior: computer Df boundaries and sample only there\")\n",
    "parser.add_argument(\"-NOP\",\"--not_old_Prior\", action=\"store_false\", dest=\"old_prior\", default=True,\n",
    "                    help=\"If present it will compute the Prior again (might take a while), else look for previously computed ones\")\n",
    "\"\"\"\n",
    "parser.add_argument('POST_DIR',nargs=\"+\",default=[],help=\"Path to the directory of the previously computed combined posterior using Multiplied_Df_PDF.py with histograms\")\n",
    "\n",
    "args = parser.parse_args()\n",
    "dir_name = args.dir_name\n",
    "\"\"\"cut_mcmc = int(args.cut_mcmc)\n",
    "KDE = bool(args.KDE)\n",
    "nbins = int(args.nbins)\n",
    "mcmc  = bool(args.mcmc)\n",
    "mcmc_steps  = int(args.mcmc_steps)\n",
    "mcmc_prior  = int(args.mcmc_prior)\n",
    "old_prior   = bool(args.old_prior)\n",
    "setting_names =  args.SETTING_FILES  \n",
    "\"\"\"\n",
    "data_path = args.POST_DIR\n",
    "backup_path = \"backup_results/\"\n",
    "if backup_path not in data_path:\n",
    "    data_path = backup_path+data_path\n",
    "list_data = next(walk(data_path), (None, None, []))[2]\n",
    "settings = []\n",
    "for ld in list_data :\n",
    "    if \"setting\" in ld:\n",
    "        settings.append(ls)\n",
    "combined_prob = data_path+\"/\""
   ]
  }
 ],
 "metadata": {
  "kernelspec": {
   "display_name": "Python 3 (ipykernel)",
   "language": "python",
   "name": "python3"
  },
  "language_info": {
   "codemirror_mode": {
    "name": "ipython",
    "version": 3
   },
   "file_extension": ".py",
   "mimetype": "text/x-python",
   "name": "python",
   "nbconvert_exporter": "python",
   "pygments_lexer": "ipython3",
   "version": "3.10.6"
  }
 },
 "nbformat": 4,
 "nbformat_minor": 5
}
