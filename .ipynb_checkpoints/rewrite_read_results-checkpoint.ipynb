{
 "cells": [
  {
   "cell_type": "raw",
   "metadata": {},
   "source": [
    "#I want to analyse the stacked MCMC run to re-write the results parameter consistently with the MCMC results"
   ]
  },
  {
   "cell_type": "code",
   "execution_count": null,
   "metadata": {},
   "outputs": [],
   "source": [
    "import sys\n",
    "import pickle\n",
    "import argparse\n",
    "import numpy as np\n",
    "from corner import quantile\n",
    "\n",
    "from tools import *\n",
    "from get_res import load_whatever"
   ]
  },
  {
   "cell_type": "code",
   "execution_count": null,
   "metadata": {},
   "outputs": [],
   "source": [
    "\n",
    "def rewrite_read_results(setting,cut_mcmc=0,backup_path=\"backup_results\",save=True):\n",
    "    #MCMC sample\n",
    "    samples_mcmc = get_mcmc_smpl(setting,backup_path)[cut_mcmc:]\n",
    "    #parameters' name\n",
    "    param_mcmc   = get_mcmc_prm(setting,backup_path)\n",
    "    \n",
    "    kwargs_results_updated={} \n",
    "    n_ra  = 0\n",
    "    n_dec = 0  \n",
    "\n",
    "    for i in range(len(param_mcmc)):\n",
    "        val = float(quantile(samples_mcmc[:,i],q=.5))\n",
    "        if param_mcmc[i]!=\"ra_image\" and param_mcmc[i]!=\"dec_image\":\n",
    "            kwargs_results_updated[param_mcmc[i]]=val \n",
    "        elif param_mcmc[i]==\"ra_image\":\n",
    "            kwargs_results_updated[\"ra_image_\"+str(n_ra)]=val          \n",
    "            n_ra+=1\n",
    "        else:\n",
    "            kwargs_results_updated[\"dec_image_\"+str(n_dec)]=val          \n",
    "            n_dec+=1\n",
    "    if save:\n",
    "        with open(get_savemcmcpath(setting,backup_path)+'/read_results_updated.data', 'wb') as file:\n",
    "            pickle.dump(kwargs_results_updated, file)\n",
    "    return kwargs_results_updated"
   ]
  },
  {
   "cell_type": "code",
   "execution_count": null,
   "metadata": {},
   "outputs": [],
   "source": [
    "if __name__==\"__main__\":\n",
    "\n",
    "    parser = argparse.ArgumentParser(description=\"Produces the read_results_updated.data with the correct values relative to the MCMC run\")\n",
    "    parser.add_argument('SETTING_FILES',nargs=\"+\",default=[],help=\"setting file(s) to consider\")\n",
    "    parser.add_argument(\"-c\", \"--cut_mcmc\", type=int, dest=\"cut_mcmc\", default=0,\n",
    "                        help=\"cut the first <c> steps of the mcmc to ignore them\")\n",
    "    args = parser.parse_args()\n",
    "    settings = args.SETTING_FILES\n",
    "    cut_mcmc = args.cut_mcmc\n",
    "    present_program(sys.argv[0])\n",
    "    for setting in settings:\n",
    "        rewrite_read_results(setting,cut_mcmc,backup_path=\"backup_results\")\n",
    "    success(sys.argv[0])"
   ]
  }
 ],
 "metadata": {
  "kernelspec": {
   "display_name": "Python 3 (ipykernel)",
   "language": "python",
   "name": "python3"
  },
  "language_info": {
   "codemirror_mode": {
    "name": "ipython",
    "version": 3
   },
   "file_extension": ".py",
   "mimetype": "text/x-python",
   "name": "python",
   "nbconvert_exporter": "python",
   "pygments_lexer": "ipython3",
   "version": "3.10.6"
  }
 },
 "nbformat": 4,
 "nbformat_minor": 4
}
