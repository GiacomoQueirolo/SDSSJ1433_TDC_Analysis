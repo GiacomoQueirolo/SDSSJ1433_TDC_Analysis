{
 "cells": [
  {
   "cell_type": "code",
   "execution_count": null,
   "id": "9d3e88f7-4886-41dd-b1ce-8bdfdaacce4e",
   "metadata": {},
   "outputs": [],
   "source": [
    "import argparse\n",
    "import numpy as np\n",
    "import matplotlib.pyplot as plt\n",
    "\n",
    "from tools import *\n",
    "from plotting_tools import base_colors\n",
    "from source_pos import get_source_pos_MCMC\n",
    "\n",
    "if __name__==\"__main__\":\n",
    "    ############################\n",
    "    present_program(sys.argv[0])\n",
    "    ############################\n",
    "    parser = argparse.ArgumentParser(description=\"Compare the reconstructed source pos in the source plane\")\n",
    "    #parser.add_argument(\"--no_corner_plot\", action=\"store_false\", dest=\"corner_plot\", default=True,\n",
    "    #                help=\"DO NOT plot the corner plot\")\n",
    "    parser.add_argument(\"-v\",\"--verbose\", action=\"store_true\", dest=\"verbose\", default=False,\n",
    "                    help=\"Verbose\")\n",
    "    parser.add_argument('SETTING_FILES',nargs=\"+\",default=[],help=\"setting file(s) to consider\")\n",
    "    args = parser.parse_args()\n",
    "    \n",
    "    settings=args.SETTING_FILES\n",
    "    #corner_plot = args.corner_plot\n",
    "    verbose = args.verbose\n",
    "    f,ax =plt.subplots(1, 1, figsize=(10,10))\n",
    "    sets_names = \"\"\n",
    "    sets_nm_short = \"\"\n",
    "    for i,sets in enumerate(settings):\n",
    "        color = base_colors[i]\n",
    "        set_nm = strip_setting_name(sets)\n",
    "        sets_names+=set_nm\n",
    "        sets_nm_short+=set_nm+\"_\"\n",
    "        if i!=len(settings):\n",
    "            sets_names+=\" and \"\n",
    "        if verbose:\n",
    "            print(set_nm)\n",
    "        kw_source,_ = get_source_pos_MCMC(sets,output_mcmc=False)\n",
    "        src = kw_source[\"source_ra\"][0],kw_source[\"source_dec\"][0]\n",
    "        src_errbound = list(kw_source[\"source_ra\"][1:]),list(kw_source[\"source_dec\"][1:])\n",
    "        ax.scatter(*src,marker=\"x\",label=set_nm+\" source\",c=color)\n",
    "        ax.plot(src_errbound[0],src_errbound[1],color=color,linestyle=\"dashed\")\n",
    "        ax.plot(*src,marker=\"x\",linestyle=\"dashed\",c=color)\n",
    "        ax.text(src[0],src[1],\"Source\",c=color)\n",
    "    plt.title(\"Source position for \"+sets_names)\n",
    "    bck_dir = \"backup_results/Source_sup/\"\n",
    "    mkdir(bck_dir)\n",
    "    svnm = bck_dir+sets_nm_short[:-1]+\".pdf\"\n",
    "    plt.savefig(svnm)\n",
    "    print(\"Saving \"+svnm)\n",
    "    success()"
   ]
  }
 ],
 "metadata": {
  "kernelspec": {
   "display_name": "Python 3 (ipykernel)",
   "language": "python",
   "name": "python3"
  },
  "language_info": {
   "codemirror_mode": {
    "name": "ipython",
    "version": 3
   },
   "file_extension": ".py",
   "mimetype": "text/x-python",
   "name": "python",
   "nbconvert_exporter": "python",
   "pygments_lexer": "ipython3",
   "version": "3.10.4"
  }
 },
 "nbformat": 4,
 "nbformat_minor": 5
}
