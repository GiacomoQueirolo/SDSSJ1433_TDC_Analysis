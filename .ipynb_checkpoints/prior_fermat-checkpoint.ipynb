{
 "cells": [
  {
   "cell_type": "code",
   "execution_count": null,
   "id": "eee9f2cc-bb39-441d-a426-bc7b808a83dd",
   "metadata": {},
   "outputs": [],
   "source": [
    "import corner\n",
    "import argparse\n",
    "import matplotlib.pyplot as plt\n",
    "\n",
    "from tools import *\n",
    "from Prior import Df_prior,Df_prior_ABC\n",
    "\n",
    "\n",
    "if __name__==\"__main__\":\n",
    "    parser = argparse.ArgumentParser(description=\"Produces the prior of the difference of Fermat potential differences given the setting file\")\n",
    "    parser.add_argument(\"-PP\", \"--plot_prior\", action=\"store_true\", dest=\"plot_prior\", default=False,\n",
    "                        help=\"Plot the prior distribution for the Fermat potential difference at the prior image positions\")\n",
    "    parser.add_argument(\"-ABCD\", action=\"store_true\", dest=\"ABCD\", default=False,\n",
    "                        help=\"Consider images A,B, C and also D (usually ignored due to low S/N)\")\n",
    "    parser.add_argument(\"-np\", \"--npoints\", type=int,dest=\"npoints\", default=1000,\n",
    "                        help=\"Number of points for the MCMC prior\")\n",
    "    parser.add_argument(\"-DfB\", \"--Df_boundaries\",dest=\"Df_boundaries\", default=None,\n",
    "                        help=\"Boundaries of the DFermat potential space\")\n",
    "    parser.add_argument('SETTING_FILES',nargs=\"+\",default=[],help=\"setting file(s) to consider\")\n",
    "    args          = parser.parse_args()\n",
    "    npoints       = args.npoints\n",
    "    plot_prior    = args.plot_prior\n",
    "    ABCD          = args.ABCD\n",
    "    Df_boundaries = args.Df_boundaries\n",
    "    settings      = args.SETTING_FILES\n",
    "    ####################\n",
    "    present_program(sys.argv[0])\n",
    "    ####################\n",
    "    backup_path   = \"./backup_results/\"\n",
    "    \n",
    "    labels = [\"$\\Delta\\phi_{AB}$\",\"$\\Delta\\phi_{AC}$\",\"$\\Delta\\phi_{AD}$\"]\n",
    "    prior_name = \"mcmc_Df_prior\"\n",
    "    if not ABCD:\n",
    "        labels[-1] = \"$\\Delta\\phi_{BC}$\"\n",
    "        prior_name = prior_name+\"_ABC\"\n",
    "    for sets in settings:\n",
    "        print_setting(sets)\n",
    "        if not ABCD:\n",
    "            Df_prior_i,_ = Df_prior_ABC(sets.replace(\".py\",\"\"),npoints,save_mcmc=True,Df_boundaries=Df_boundaries,backup_path=backup_path,output_name=prior_name)\n",
    "        else:    \n",
    "            Df_prior_i,_ = Df_prior(sets.replace(\".py\",\"\"),npoints,save_mcmc=True,Df_boundaries=Df_boundaries,backup_path=backup_path,output_name=prior_name)\n",
    "        if plot_prior:\n",
    "            savefig_path = get_savefigpath(sets,backup_path)\n",
    "            corner.corner(Df_prior_i,labels=labels,show_titles=True)\n",
    "            plt.savefig(savefig_path+\"/\"+prior_name+\".png\")\n",
    "            plt.close()\n",
    "    success(sys.argv[0])"
   ]
  }
 ],
 "metadata": {
  "kernelspec": {
   "display_name": "Python 3 (ipykernel)",
   "language": "python",
   "name": "python3"
  },
  "language_info": {
   "codemirror_mode": {
    "name": "ipython",
    "version": 3
   },
   "file_extension": ".py",
   "mimetype": "text/x-python",
   "name": "python",
   "nbconvert_exporter": "python",
   "pygments_lexer": "ipython3",
   "version": "3.10.6"
  }
 },
 "nbformat": 4,
 "nbformat_minor": 5
}
